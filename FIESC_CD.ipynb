{
  "nbformat": 4,
  "nbformat_minor": 0,
  "metadata": {
    "colab": {
      "name": "FIESC_CD.ipynb",
      "provenance": [],
      "collapsed_sections": [
        "_Rk_vLMkcH8T",
        "qaHawqtrmvqU"
      ],
      "mount_file_id": "1dttN2B03T2JYN-8BVLKVo1eUxwPun5sA",
      "authorship_tag": "ABX9TyMVm3L05feKLQ1JNLBZbzlq",
      "include_colab_link": true
    },
    "kernelspec": {
      "name": "python3",
      "display_name": "Python 3"
    },
    "language_info": {
      "name": "python"
    }
  },
  "cells": [
    {
      "cell_type": "markdown",
      "metadata": {
        "id": "view-in-github",
        "colab_type": "text"
      },
      "source": [
        "<a href=\"https://colab.research.google.com/github/silviolima07/FIESC/blob/main/FIESC_CD.ipynb\" target=\"_parent\"><img src=\"https://colab.research.google.com/assets/colab-badge.svg\" alt=\"Open In Colab\"/></a>"
      ]
    },
    {
      "cell_type": "code",
      "source": [
        "import pandas as pd\n",
        "import numpy as np\n",
        "import matplotlib.pyplot as plt\n",
        "import seaborn as sns\n",
        "from functools import reduce"
      ],
      "metadata": {
        "id": "WK3rHcfxuGUo"
      },
      "execution_count": 1,
      "outputs": []
    },
    {
      "cell_type": "code",
      "source": [
        "def missing_values_table(df):\n",
        "        mis_val = df.isnull().sum()\n",
        "        \n",
        "        mis_val_percent = 100 * df.isnull().sum() / len(df)\n",
        "        \n",
        "        mis_val_table = pd.concat([mis_val, mis_val_percent], axis=1)\n",
        "        \n",
        "        mis_val_table_ren_columns = mis_val_table.rename(\n",
        "        columns = {0 : 'Missing Values', 1 : '% of Total Values'})\n",
        "        \n",
        "        mis_val_table_ren_columns = mis_val_table_ren_columns[\n",
        "            mis_val_table_ren_columns.iloc[:,1] != 0].sort_values(\n",
        "        '% of Total Values', ascending=False).round(1)\n",
        "        \n",
        "        print (\"Seu dataframe tem \" + str(df.shape[1]) + \" colunas.\\n\"      \n",
        "            \"Há \" + str(mis_val_table_ren_columns.shape[0]) +\n",
        "              \" colunas que possuem valores ausentes.\")\n",
        "        \n",
        "        return mis_val_table_ren_columns"
      ],
      "metadata": {
        "id": "W4wsa1zuDi7-"
      },
      "execution_count": 2,
      "outputs": []
    },
    {
      "cell_type": "markdown",
      "source": [
        "Utilize o Google Colab com PySpark (ou Pandas) para realizar uma análise exploratória dos\n",
        "dados de prova do Enem 2019, com o intuito de responder os seguintes questionamentos:\n",
        "1. Quais as matrizes e habilidades mais cobradas na edição?\n",
        "2. Quais as matrizes e habilidades menos cobradas na edição?\n",
        "3. Existe desproporcionalidade (quantidade) entre as matrizes e habilidades cobradas na\n",
        "edição?\n",
        "4. Você encontrou mais alguma informação relevante sobre a análise? Se sim, qual(ais)?"
      ],
      "metadata": {
        "id": "GuuBO-xe8Dr0"
      }
    },
    {
      "cell_type": "markdown",
      "source": [
        "## Instalação do pyspark no colab"
      ],
      "metadata": {
        "id": "4VGDFY2X1ZW-"
      }
    },
    {
      "cell_type": "code",
      "execution_count": 3,
      "metadata": {
        "id": "9CRNEbc01RTa"
      },
      "outputs": [],
      "source": [
        "# instalar as dependências\n",
        "!apt-get install openjdk-8-jdk-headless -qq > /dev/null\n",
        "!wget -q https://archive.apache.org/dist/spark/spark-3.1.2/spark-3.1.2-bin-hadoop2.7.tgz\n",
        "!tar xf spark-3.1.2-bin-hadoop2.7.tgz\n",
        "!pip install -q findspark"
      ]
    },
    {
      "cell_type": "code",
      "source": [
        "# configurar as variáveis de ambiente\n",
        "import os\n",
        "# Definindo a variável de ambiente do Java\n",
        "os.environ[\"JAVA_HOME\"] = \"/usr/lib/jvm/java-8-openjdk-amd64\"\n",
        "\n",
        "# Definindo a variável de ambiente do Spark\n",
        "os.environ[\"SPARK_HOME\"] = \"/content/spark-3.1.2-bin-hadoop2.7\""
      ],
      "metadata": {
        "id": "Y7cl3BFJ1jH7"
      },
      "execution_count": 4,
      "outputs": []
    },
    {
      "cell_type": "code",
      "source": [
        "# Importando a findspark\n",
        "import findspark\n",
        "\n",
        "# Iniciando o findspark\n",
        "findspark.init()"
      ],
      "metadata": {
        "id": "S7L1tPp2ysOU"
      },
      "execution_count": 5,
      "outputs": []
    },
    {
      "cell_type": "code",
      "source": [
        "from pyspark.sql.types import IntegerType"
      ],
      "metadata": {
        "id": "oWPFu7pzTSx5"
      },
      "execution_count": 6,
      "outputs": []
    },
    {
      "cell_type": "code",
      "source": [
        "# iniciar uma sessão local e importar dados do Airbnb\n",
        "from pyspark.sql import SparkSession\n",
        "sc = SparkSession.builder.master('local[*]').getOrCreate()\n",
        "\n",
        "# carregar dataset\n",
        "df_spark = sc.read.csv(\"/content/drive/MyDrive/DATASETS/Itens_Prova_Enem_2019.csv\", sep=';', header='true')\n",
        "\n",
        "\n",
        "# ver algumas informações sobre os tipos de dados de cada coluna\n",
        "df_spark.printSchema()"
      ],
      "metadata": {
        "colab": {
          "base_uri": "https://localhost:8080/"
        },
        "id": "0VdjOZf815FE",
        "outputId": "266a543b-39bc-4bfd-ba01-414f2bf9ad5d"
      },
      "execution_count": 7,
      "outputs": [
        {
          "output_type": "stream",
          "name": "stdout",
          "text": [
            "root\n",
            " |-- CO_POSICAO: string (nullable = true)\n",
            " |-- SG_AREA: string (nullable = true)\n",
            " |-- CO_ITEM: string (nullable = true)\n",
            " |-- TX_GABARITO: string (nullable = true)\n",
            " |-- CO_HABILIDADE: string (nullable = true)\n",
            " |-- TX_COR: string (nullable = true)\n",
            " |-- CO_PROVA: string (nullable = true)\n",
            " |-- TP_LINGUA: string (nullable = true)\n",
            " |-- IN_ITEM_ADAPTADO: string (nullable = true)\n",
            "\n"
          ]
        }
      ]
    },
    {
      "cell_type": "code",
      "source": [
        "df_spark.show(5)"
      ],
      "metadata": {
        "colab": {
          "base_uri": "https://localhost:8080/"
        },
        "id": "M8nig1VW8OKG",
        "outputId": "432fcabe-725e-41e8-de24-03c0dfd725f1"
      },
      "execution_count": 8,
      "outputs": [
        {
          "output_type": "stream",
          "name": "stdout",
          "text": [
            "+----------+-------+-------+-----------+-------------+------+--------+---------+----------------+\n",
            "|CO_POSICAO|SG_AREA|CO_ITEM|TX_GABARITO|CO_HABILIDADE|TX_COR|CO_PROVA|TP_LINGUA|IN_ITEM_ADAPTADO|\n",
            "+----------+-------+-------+-----------+-------------+------+--------+---------+----------------+\n",
            "|         1|     LC|  55166|          B|            7|  Azul|     511|        0|               0|\n",
            "|         2|     LC|  54110|          D|            7|  Azul|     511|        0|               0|\n",
            "|         3|     LC|  23564|          A|            6|  Azul|     511|        0|               0|\n",
            "|         4|     LC|  31954|          B|            8|  Azul|     511|        0|               0|\n",
            "|         5|     LC| 118180|          E|            5|  Azul|     511|        0|               0|\n",
            "+----------+-------+-------+-----------+-------------+------+--------+---------+----------------+\n",
            "only showing top 5 rows\n",
            "\n"
          ]
        }
      ]
    },
    {
      "cell_type": "markdown",
      "source": [
        "# Coluna 'count' representa a contagem de questões em cada area do conhecimento (SG_AREA)"
      ],
      "metadata": {
        "id": "K66TguRsboXc"
      }
    },
    {
      "cell_type": "code",
      "source": [
        "df_spark.groupBy('SG_AREA').count().orderBy('count').show()"
      ],
      "metadata": {
        "colab": {
          "base_uri": "https://localhost:8080/"
        },
        "id": "gsWtriToZ58x",
        "outputId": "e8481bd4-b0c2-4095-da59-34913bb05ec4"
      },
      "execution_count": 9,
      "outputs": [
        {
          "output_type": "stream",
          "name": "stdout",
          "text": [
            "+-------+-----+\n",
            "|SG_AREA|count|\n",
            "+-------+-----+\n",
            "|     CN|  450|\n",
            "|     MT|  450|\n",
            "|     CH|  495|\n",
            "|     LC|  550|\n",
            "+-------+-----+\n",
            "\n"
          ]
        }
      ]
    },
    {
      "cell_type": "markdown",
      "source": [
        "# Coluna CO_HABILIDADE possue 30 valores representando o codigo de cada habilidade.\n",
        "# Coluna 'count' representa a contagem de cada habilidade em cada area do conhecimento (SG_AREA)\n"
      ],
      "metadata": {
        "id": "_Rk_vLMkcH8T"
      }
    },
    {
      "cell_type": "markdown",
      "source": [
        "# *1) Quais as matrizes e habilidades mais cobradas na edição?*\n",
        "# Top 10 "
      ],
      "metadata": {
        "id": "UlRlzLJiq_BY"
      }
    },
    {
      "cell_type": "code",
      "source": [
        "df_spark.groupBy('SG_AREA','CO_HABILIDADE').count().orderBy('count', ascending=False).show(10)"
      ],
      "metadata": {
        "colab": {
          "base_uri": "https://localhost:8080/"
        },
        "id": "-wmOTdd3cBQb",
        "outputId": "9cc0c167-386b-4324-c1dc-d6ec6ed496bd"
      },
      "execution_count": 10,
      "outputs": [
        {
          "output_type": "stream",
          "name": "stdout",
          "text": [
            "+-------+-------------+-----+\n",
            "|SG_AREA|CO_HABILIDADE|count|\n",
            "+-------+-------------+-----+\n",
            "|     LC|           16|   44|\n",
            "|     CH|           11|   33|\n",
            "|     CH|           15|   33|\n",
            "|     CH|           23|   33|\n",
            "|     LC|            6|   32|\n",
            "|     LC|            7|   28|\n",
            "|     LC|            8|   28|\n",
            "|     LC|           17|   27|\n",
            "|     MT|           21|   26|\n",
            "|     CN|           20|   24|\n",
            "+-------+-------------+-----+\n",
            "only showing top 10 rows\n",
            "\n"
          ]
        }
      ]
    },
    {
      "cell_type": "markdown",
      "source": [
        "# *2) Quais as matrizes e habilidades menos cobradas na edição?*\n",
        "# Down 10\n"
      ],
      "metadata": {
        "id": "oOu6sh2zrZac"
      }
    },
    {
      "cell_type": "code",
      "source": [
        "df_spark.groupBy('SG_AREA','CO_HABILIDADE').count().orderBy('count', ascending=True).show(10)"
      ],
      "metadata": {
        "colab": {
          "base_uri": "https://localhost:8080/"
        },
        "id": "jKln600SrT93",
        "outputId": "38e27080-afe0-435c-82a0-f214cd2d99c2"
      },
      "execution_count": 11,
      "outputs": [
        {
          "output_type": "stream",
          "name": "stdout",
          "text": [
            "+-------+-------------+-----+\n",
            "|SG_AREA|CO_HABILIDADE|count|\n",
            "+-------+-------------+-----+\n",
            "|     MT|           22|    4|\n",
            "|     CH|           13|    5|\n",
            "|     CH|           10|    6|\n",
            "|     LC|           13|    6|\n",
            "|     CH|           25|    6|\n",
            "|     LC|           29|    6|\n",
            "|     MT|            6|    9|\n",
            "|     MT|           10|   10|\n",
            "|     CN|           13|   10|\n",
            "|     CN|           11|   10|\n",
            "+-------+-------------+-----+\n",
            "only showing top 10 rows\n",
            "\n"
          ]
        }
      ]
    },
    {
      "cell_type": "markdown",
      "source": [
        "# 3) Existe desproporcionalidade (quantidade) entre as matrizes e habilidades cobradas na edição?"
      ],
      "metadata": {
        "id": "kyk3zvKHsMqt"
      }
    },
    {
      "cell_type": "markdown",
      "source": [
        "## Filtrar por AREA e agrupar para identificar a quantidade de cada habilidade"
      ],
      "metadata": {
        "id": "qaHawqtrmvqU"
      }
    },
    {
      "cell_type": "markdown",
      "source": [
        "## Criar um dataframe para cada area"
      ],
      "metadata": {
        "id": "nXu1u9I_nKQQ"
      }
    },
    {
      "cell_type": "code",
      "source": [
        "df_MT = df_spark.filter(df_spark.SG_AREA=='MT')\n",
        "df_MT2 = df_MT.groupBy('CO_HABILIDADE').count().orderBy('count')\n",
        "df_MT2 = df_MT2.withColumnRenamed('count', 'MT')\n",
        "df_MT2 = df_MT2.toPandas()\n",
        "#\n",
        "df_CN = df_spark.filter(df_spark.SG_AREA=='CN')\n",
        "df_CN2 = df_CN.groupBy('CO_HABILIDADE').count().orderBy('count')\n",
        "df_CN2 = df_CN2.withColumnRenamed('count', 'CN')\n",
        "df_CN2 = df_CN2.toPandas()\n",
        "#\n",
        "df_CH = df_spark.filter(df_spark.SG_AREA=='CH')\n",
        "df_CH2 = df_CH.groupBy('CO_HABILIDADE').count().orderBy('count')\n",
        "df_CH2 = df_CH2.withColumnRenamed('count', 'CH')\n",
        "df_CH2 = df_CH2.toPandas()\n",
        "#\n",
        "df_LC = df_spark.filter(df_spark.SG_AREA=='LC')\n",
        "df_LC2 = df_LC.groupBy('CO_HABILIDADE').count().orderBy('count')\n",
        "df_LC2 = df_LC2.withColumnRenamed('count', 'LC')\n",
        "df_LC2 = df_LC2.toPandas()"
      ],
      "metadata": {
        "id": "8KvBcmMaFWPt"
      },
      "execution_count": 12,
      "outputs": []
    },
    {
      "cell_type": "code",
      "source": [
        "df_MT2.head()"
      ],
      "metadata": {
        "colab": {
          "base_uri": "https://localhost:8080/",
          "height": 206
        },
        "id": "SM0dmC_SZsjQ",
        "outputId": "e63be01a-662c-47af-ee8e-724fab413646"
      },
      "execution_count": 13,
      "outputs": [
        {
          "output_type": "execute_result",
          "data": {
            "text/plain": [
              "  CO_HABILIDADE  MT\n",
              "0            22   4\n",
              "1             6   9\n",
              "2             7  10\n",
              "3            15  10\n",
              "4            11  10"
            ],
            "text/html": [
              "\n",
              "  <div id=\"df-6fa2de23-913c-47fd-9437-87818d5c53db\">\n",
              "    <div class=\"colab-df-container\">\n",
              "      <div>\n",
              "<style scoped>\n",
              "    .dataframe tbody tr th:only-of-type {\n",
              "        vertical-align: middle;\n",
              "    }\n",
              "\n",
              "    .dataframe tbody tr th {\n",
              "        vertical-align: top;\n",
              "    }\n",
              "\n",
              "    .dataframe thead th {\n",
              "        text-align: right;\n",
              "    }\n",
              "</style>\n",
              "<table border=\"1\" class=\"dataframe\">\n",
              "  <thead>\n",
              "    <tr style=\"text-align: right;\">\n",
              "      <th></th>\n",
              "      <th>CO_HABILIDADE</th>\n",
              "      <th>MT</th>\n",
              "    </tr>\n",
              "  </thead>\n",
              "  <tbody>\n",
              "    <tr>\n",
              "      <th>0</th>\n",
              "      <td>22</td>\n",
              "      <td>4</td>\n",
              "    </tr>\n",
              "    <tr>\n",
              "      <th>1</th>\n",
              "      <td>6</td>\n",
              "      <td>9</td>\n",
              "    </tr>\n",
              "    <tr>\n",
              "      <th>2</th>\n",
              "      <td>7</td>\n",
              "      <td>10</td>\n",
              "    </tr>\n",
              "    <tr>\n",
              "      <th>3</th>\n",
              "      <td>15</td>\n",
              "      <td>10</td>\n",
              "    </tr>\n",
              "    <tr>\n",
              "      <th>4</th>\n",
              "      <td>11</td>\n",
              "      <td>10</td>\n",
              "    </tr>\n",
              "  </tbody>\n",
              "</table>\n",
              "</div>\n",
              "      <button class=\"colab-df-convert\" onclick=\"convertToInteractive('df-6fa2de23-913c-47fd-9437-87818d5c53db')\"\n",
              "              title=\"Convert this dataframe to an interactive table.\"\n",
              "              style=\"display:none;\">\n",
              "        \n",
              "  <svg xmlns=\"http://www.w3.org/2000/svg\" height=\"24px\"viewBox=\"0 0 24 24\"\n",
              "       width=\"24px\">\n",
              "    <path d=\"M0 0h24v24H0V0z\" fill=\"none\"/>\n",
              "    <path d=\"M18.56 5.44l.94 2.06.94-2.06 2.06-.94-2.06-.94-.94-2.06-.94 2.06-2.06.94zm-11 1L8.5 8.5l.94-2.06 2.06-.94-2.06-.94L8.5 2.5l-.94 2.06-2.06.94zm10 10l.94 2.06.94-2.06 2.06-.94-2.06-.94-.94-2.06-.94 2.06-2.06.94z\"/><path d=\"M17.41 7.96l-1.37-1.37c-.4-.4-.92-.59-1.43-.59-.52 0-1.04.2-1.43.59L10.3 9.45l-7.72 7.72c-.78.78-.78 2.05 0 2.83L4 21.41c.39.39.9.59 1.41.59.51 0 1.02-.2 1.41-.59l7.78-7.78 2.81-2.81c.8-.78.8-2.07 0-2.86zM5.41 20L4 18.59l7.72-7.72 1.47 1.35L5.41 20z\"/>\n",
              "  </svg>\n",
              "      </button>\n",
              "      \n",
              "  <style>\n",
              "    .colab-df-container {\n",
              "      display:flex;\n",
              "      flex-wrap:wrap;\n",
              "      gap: 12px;\n",
              "    }\n",
              "\n",
              "    .colab-df-convert {\n",
              "      background-color: #E8F0FE;\n",
              "      border: none;\n",
              "      border-radius: 50%;\n",
              "      cursor: pointer;\n",
              "      display: none;\n",
              "      fill: #1967D2;\n",
              "      height: 32px;\n",
              "      padding: 0 0 0 0;\n",
              "      width: 32px;\n",
              "    }\n",
              "\n",
              "    .colab-df-convert:hover {\n",
              "      background-color: #E2EBFA;\n",
              "      box-shadow: 0px 1px 2px rgba(60, 64, 67, 0.3), 0px 1px 3px 1px rgba(60, 64, 67, 0.15);\n",
              "      fill: #174EA6;\n",
              "    }\n",
              "\n",
              "    [theme=dark] .colab-df-convert {\n",
              "      background-color: #3B4455;\n",
              "      fill: #D2E3FC;\n",
              "    }\n",
              "\n",
              "    [theme=dark] .colab-df-convert:hover {\n",
              "      background-color: #434B5C;\n",
              "      box-shadow: 0px 1px 3px 1px rgba(0, 0, 0, 0.15);\n",
              "      filter: drop-shadow(0px 1px 2px rgba(0, 0, 0, 0.3));\n",
              "      fill: #FFFFFF;\n",
              "    }\n",
              "  </style>\n",
              "\n",
              "      <script>\n",
              "        const buttonEl =\n",
              "          document.querySelector('#df-6fa2de23-913c-47fd-9437-87818d5c53db button.colab-df-convert');\n",
              "        buttonEl.style.display =\n",
              "          google.colab.kernel.accessAllowed ? 'block' : 'none';\n",
              "\n",
              "        async function convertToInteractive(key) {\n",
              "          const element = document.querySelector('#df-6fa2de23-913c-47fd-9437-87818d5c53db');\n",
              "          const dataTable =\n",
              "            await google.colab.kernel.invokeFunction('convertToInteractive',\n",
              "                                                     [key], {});\n",
              "          if (!dataTable) return;\n",
              "\n",
              "          const docLinkHtml = 'Like what you see? Visit the ' +\n",
              "            '<a target=\"_blank\" href=https://colab.research.google.com/notebooks/data_table.ipynb>data table notebook</a>'\n",
              "            + ' to learn more about interactive tables.';\n",
              "          element.innerHTML = '';\n",
              "          dataTable['output_type'] = 'display_data';\n",
              "          await google.colab.output.renderOutput(dataTable, element);\n",
              "          const docLink = document.createElement('div');\n",
              "          docLink.innerHTML = docLinkHtml;\n",
              "          element.appendChild(docLink);\n",
              "        }\n",
              "      </script>\n",
              "    </div>\n",
              "  </div>\n",
              "  "
            ]
          },
          "metadata": {},
          "execution_count": 13
        }
      ]
    },
    {
      "cell_type": "code",
      "source": [
        "print('Areas:\\n','MT=',df_MT2.shape,'\\n CN=', df_CN2.shape, '\\n CH=', df_CH2.shape,'\\n LC=', df_LC2.shape )"
      ],
      "metadata": {
        "colab": {
          "base_uri": "https://localhost:8080/"
        },
        "id": "Pl3BcBbwmgn5",
        "outputId": "bf5d940a-c11f-4c69-a6c4-5c0213a18708"
      },
      "execution_count": 14,
      "outputs": [
        {
          "output_type": "stream",
          "name": "stdout",
          "text": [
            "Areas:\n",
            " MT= (30, 2) \n",
            " CN= (30, 2) \n",
            " CH= (30, 2) \n",
            " LC= (30, 2)\n"
          ]
        }
      ]
    },
    {
      "cell_type": "code",
      "source": [
        "data_frames = [df_MT2, df_CN2, df_CH2, df_LC2]"
      ],
      "metadata": {
        "id": "iET-tYlBN_kR"
      },
      "execution_count": 15,
      "outputs": []
    },
    {
      "cell_type": "code",
      "source": [
        "df_merged = reduce(lambda  left,right: pd.merge(left,right,on=['CO_HABILIDADE'],\n",
        "                                            how='outer'), data_frames)"
      ],
      "metadata": {
        "id": "kL18S8KdOJZm"
      },
      "execution_count": 16,
      "outputs": []
    },
    {
      "cell_type": "code",
      "source": [
        "df_merged['CO_HABILIDADE']= df_merged['CO_HABILIDADE'].astype('int32')"
      ],
      "metadata": {
        "id": "zCJyzZdVPQ0B"
      },
      "execution_count": 17,
      "outputs": []
    },
    {
      "cell_type": "markdown",
      "source": [
        "# Em cada AREA quantas vezes uma HABILIDADE está presente."
      ],
      "metadata": {
        "id": "JIkSufCGbkc8"
      }
    },
    {
      "cell_type": "code",
      "source": [
        "df_merged.sort_values(by=['CO_HABILIDADE'])"
      ],
      "metadata": {
        "colab": {
          "base_uri": "https://localhost:8080/",
          "height": 990
        },
        "id": "4ShBvYYZOXZL",
        "outputId": "c3ddd59d-4875-4177-d235-3d7ee73fb702"
      },
      "execution_count": 18,
      "outputs": [
        {
          "output_type": "execute_result",
          "data": {
            "text/plain": [
              "    CO_HABILIDADE  MT  CN  CH  LC\n",
              "28              1  21  16  22  17\n",
              "16              2  16  20  21  11\n",
              "17              3  20  20  17  16\n",
              "25              4  20  10  16  21\n",
              "7               5  10  10  22  22\n",
              "1               6   9  16  17  32\n",
              "2               7  10  20  22  28\n",
              "18              8  20  20  21  28\n",
              "23              9  20  16  11  11\n",
              "11             10  10  10   6  17\n",
              "4              11  10  10  33  16\n",
              "26             12  20  10  16  16\n",
              "12             13  10  10   5   6\n",
              "27             14  20  14  11  17\n",
              "3              15  10  13  33  22\n",
              "20             16  20  10  11  44\n",
              "9              17  10  20  16  27\n",
              "8              18  10  19  11  21\n",
              "21             19  20  14  11  11\n",
              "24             20  20  24  17  11\n",
              "29             21  26  16  11  11\n",
              "0              22   4  16  11  11\n",
              "14             23  14  17  33  22\n",
              "10             24  10  16  17  22\n",
              "22             25  20  14   6  16\n",
              "15             26  16  14  22  11\n",
              "13             27  14  20  23  11\n",
              "19             28  20  15  11  23\n",
              "5              29  10  10  11   6\n",
              "6              30  10  10  11  23"
            ],
            "text/html": [
              "\n",
              "  <div id=\"df-55019048-1107-43b6-bbaa-79b23502bff0\">\n",
              "    <div class=\"colab-df-container\">\n",
              "      <div>\n",
              "<style scoped>\n",
              "    .dataframe tbody tr th:only-of-type {\n",
              "        vertical-align: middle;\n",
              "    }\n",
              "\n",
              "    .dataframe tbody tr th {\n",
              "        vertical-align: top;\n",
              "    }\n",
              "\n",
              "    .dataframe thead th {\n",
              "        text-align: right;\n",
              "    }\n",
              "</style>\n",
              "<table border=\"1\" class=\"dataframe\">\n",
              "  <thead>\n",
              "    <tr style=\"text-align: right;\">\n",
              "      <th></th>\n",
              "      <th>CO_HABILIDADE</th>\n",
              "      <th>MT</th>\n",
              "      <th>CN</th>\n",
              "      <th>CH</th>\n",
              "      <th>LC</th>\n",
              "    </tr>\n",
              "  </thead>\n",
              "  <tbody>\n",
              "    <tr>\n",
              "      <th>28</th>\n",
              "      <td>1</td>\n",
              "      <td>21</td>\n",
              "      <td>16</td>\n",
              "      <td>22</td>\n",
              "      <td>17</td>\n",
              "    </tr>\n",
              "    <tr>\n",
              "      <th>16</th>\n",
              "      <td>2</td>\n",
              "      <td>16</td>\n",
              "      <td>20</td>\n",
              "      <td>21</td>\n",
              "      <td>11</td>\n",
              "    </tr>\n",
              "    <tr>\n",
              "      <th>17</th>\n",
              "      <td>3</td>\n",
              "      <td>20</td>\n",
              "      <td>20</td>\n",
              "      <td>17</td>\n",
              "      <td>16</td>\n",
              "    </tr>\n",
              "    <tr>\n",
              "      <th>25</th>\n",
              "      <td>4</td>\n",
              "      <td>20</td>\n",
              "      <td>10</td>\n",
              "      <td>16</td>\n",
              "      <td>21</td>\n",
              "    </tr>\n",
              "    <tr>\n",
              "      <th>7</th>\n",
              "      <td>5</td>\n",
              "      <td>10</td>\n",
              "      <td>10</td>\n",
              "      <td>22</td>\n",
              "      <td>22</td>\n",
              "    </tr>\n",
              "    <tr>\n",
              "      <th>1</th>\n",
              "      <td>6</td>\n",
              "      <td>9</td>\n",
              "      <td>16</td>\n",
              "      <td>17</td>\n",
              "      <td>32</td>\n",
              "    </tr>\n",
              "    <tr>\n",
              "      <th>2</th>\n",
              "      <td>7</td>\n",
              "      <td>10</td>\n",
              "      <td>20</td>\n",
              "      <td>22</td>\n",
              "      <td>28</td>\n",
              "    </tr>\n",
              "    <tr>\n",
              "      <th>18</th>\n",
              "      <td>8</td>\n",
              "      <td>20</td>\n",
              "      <td>20</td>\n",
              "      <td>21</td>\n",
              "      <td>28</td>\n",
              "    </tr>\n",
              "    <tr>\n",
              "      <th>23</th>\n",
              "      <td>9</td>\n",
              "      <td>20</td>\n",
              "      <td>16</td>\n",
              "      <td>11</td>\n",
              "      <td>11</td>\n",
              "    </tr>\n",
              "    <tr>\n",
              "      <th>11</th>\n",
              "      <td>10</td>\n",
              "      <td>10</td>\n",
              "      <td>10</td>\n",
              "      <td>6</td>\n",
              "      <td>17</td>\n",
              "    </tr>\n",
              "    <tr>\n",
              "      <th>4</th>\n",
              "      <td>11</td>\n",
              "      <td>10</td>\n",
              "      <td>10</td>\n",
              "      <td>33</td>\n",
              "      <td>16</td>\n",
              "    </tr>\n",
              "    <tr>\n",
              "      <th>26</th>\n",
              "      <td>12</td>\n",
              "      <td>20</td>\n",
              "      <td>10</td>\n",
              "      <td>16</td>\n",
              "      <td>16</td>\n",
              "    </tr>\n",
              "    <tr>\n",
              "      <th>12</th>\n",
              "      <td>13</td>\n",
              "      <td>10</td>\n",
              "      <td>10</td>\n",
              "      <td>5</td>\n",
              "      <td>6</td>\n",
              "    </tr>\n",
              "    <tr>\n",
              "      <th>27</th>\n",
              "      <td>14</td>\n",
              "      <td>20</td>\n",
              "      <td>14</td>\n",
              "      <td>11</td>\n",
              "      <td>17</td>\n",
              "    </tr>\n",
              "    <tr>\n",
              "      <th>3</th>\n",
              "      <td>15</td>\n",
              "      <td>10</td>\n",
              "      <td>13</td>\n",
              "      <td>33</td>\n",
              "      <td>22</td>\n",
              "    </tr>\n",
              "    <tr>\n",
              "      <th>20</th>\n",
              "      <td>16</td>\n",
              "      <td>20</td>\n",
              "      <td>10</td>\n",
              "      <td>11</td>\n",
              "      <td>44</td>\n",
              "    </tr>\n",
              "    <tr>\n",
              "      <th>9</th>\n",
              "      <td>17</td>\n",
              "      <td>10</td>\n",
              "      <td>20</td>\n",
              "      <td>16</td>\n",
              "      <td>27</td>\n",
              "    </tr>\n",
              "    <tr>\n",
              "      <th>8</th>\n",
              "      <td>18</td>\n",
              "      <td>10</td>\n",
              "      <td>19</td>\n",
              "      <td>11</td>\n",
              "      <td>21</td>\n",
              "    </tr>\n",
              "    <tr>\n",
              "      <th>21</th>\n",
              "      <td>19</td>\n",
              "      <td>20</td>\n",
              "      <td>14</td>\n",
              "      <td>11</td>\n",
              "      <td>11</td>\n",
              "    </tr>\n",
              "    <tr>\n",
              "      <th>24</th>\n",
              "      <td>20</td>\n",
              "      <td>20</td>\n",
              "      <td>24</td>\n",
              "      <td>17</td>\n",
              "      <td>11</td>\n",
              "    </tr>\n",
              "    <tr>\n",
              "      <th>29</th>\n",
              "      <td>21</td>\n",
              "      <td>26</td>\n",
              "      <td>16</td>\n",
              "      <td>11</td>\n",
              "      <td>11</td>\n",
              "    </tr>\n",
              "    <tr>\n",
              "      <th>0</th>\n",
              "      <td>22</td>\n",
              "      <td>4</td>\n",
              "      <td>16</td>\n",
              "      <td>11</td>\n",
              "      <td>11</td>\n",
              "    </tr>\n",
              "    <tr>\n",
              "      <th>14</th>\n",
              "      <td>23</td>\n",
              "      <td>14</td>\n",
              "      <td>17</td>\n",
              "      <td>33</td>\n",
              "      <td>22</td>\n",
              "    </tr>\n",
              "    <tr>\n",
              "      <th>10</th>\n",
              "      <td>24</td>\n",
              "      <td>10</td>\n",
              "      <td>16</td>\n",
              "      <td>17</td>\n",
              "      <td>22</td>\n",
              "    </tr>\n",
              "    <tr>\n",
              "      <th>22</th>\n",
              "      <td>25</td>\n",
              "      <td>20</td>\n",
              "      <td>14</td>\n",
              "      <td>6</td>\n",
              "      <td>16</td>\n",
              "    </tr>\n",
              "    <tr>\n",
              "      <th>15</th>\n",
              "      <td>26</td>\n",
              "      <td>16</td>\n",
              "      <td>14</td>\n",
              "      <td>22</td>\n",
              "      <td>11</td>\n",
              "    </tr>\n",
              "    <tr>\n",
              "      <th>13</th>\n",
              "      <td>27</td>\n",
              "      <td>14</td>\n",
              "      <td>20</td>\n",
              "      <td>23</td>\n",
              "      <td>11</td>\n",
              "    </tr>\n",
              "    <tr>\n",
              "      <th>19</th>\n",
              "      <td>28</td>\n",
              "      <td>20</td>\n",
              "      <td>15</td>\n",
              "      <td>11</td>\n",
              "      <td>23</td>\n",
              "    </tr>\n",
              "    <tr>\n",
              "      <th>5</th>\n",
              "      <td>29</td>\n",
              "      <td>10</td>\n",
              "      <td>10</td>\n",
              "      <td>11</td>\n",
              "      <td>6</td>\n",
              "    </tr>\n",
              "    <tr>\n",
              "      <th>6</th>\n",
              "      <td>30</td>\n",
              "      <td>10</td>\n",
              "      <td>10</td>\n",
              "      <td>11</td>\n",
              "      <td>23</td>\n",
              "    </tr>\n",
              "  </tbody>\n",
              "</table>\n",
              "</div>\n",
              "      <button class=\"colab-df-convert\" onclick=\"convertToInteractive('df-55019048-1107-43b6-bbaa-79b23502bff0')\"\n",
              "              title=\"Convert this dataframe to an interactive table.\"\n",
              "              style=\"display:none;\">\n",
              "        \n",
              "  <svg xmlns=\"http://www.w3.org/2000/svg\" height=\"24px\"viewBox=\"0 0 24 24\"\n",
              "       width=\"24px\">\n",
              "    <path d=\"M0 0h24v24H0V0z\" fill=\"none\"/>\n",
              "    <path d=\"M18.56 5.44l.94 2.06.94-2.06 2.06-.94-2.06-.94-.94-2.06-.94 2.06-2.06.94zm-11 1L8.5 8.5l.94-2.06 2.06-.94-2.06-.94L8.5 2.5l-.94 2.06-2.06.94zm10 10l.94 2.06.94-2.06 2.06-.94-2.06-.94-.94-2.06-.94 2.06-2.06.94z\"/><path d=\"M17.41 7.96l-1.37-1.37c-.4-.4-.92-.59-1.43-.59-.52 0-1.04.2-1.43.59L10.3 9.45l-7.72 7.72c-.78.78-.78 2.05 0 2.83L4 21.41c.39.39.9.59 1.41.59.51 0 1.02-.2 1.41-.59l7.78-7.78 2.81-2.81c.8-.78.8-2.07 0-2.86zM5.41 20L4 18.59l7.72-7.72 1.47 1.35L5.41 20z\"/>\n",
              "  </svg>\n",
              "      </button>\n",
              "      \n",
              "  <style>\n",
              "    .colab-df-container {\n",
              "      display:flex;\n",
              "      flex-wrap:wrap;\n",
              "      gap: 12px;\n",
              "    }\n",
              "\n",
              "    .colab-df-convert {\n",
              "      background-color: #E8F0FE;\n",
              "      border: none;\n",
              "      border-radius: 50%;\n",
              "      cursor: pointer;\n",
              "      display: none;\n",
              "      fill: #1967D2;\n",
              "      height: 32px;\n",
              "      padding: 0 0 0 0;\n",
              "      width: 32px;\n",
              "    }\n",
              "\n",
              "    .colab-df-convert:hover {\n",
              "      background-color: #E2EBFA;\n",
              "      box-shadow: 0px 1px 2px rgba(60, 64, 67, 0.3), 0px 1px 3px 1px rgba(60, 64, 67, 0.15);\n",
              "      fill: #174EA6;\n",
              "    }\n",
              "\n",
              "    [theme=dark] .colab-df-convert {\n",
              "      background-color: #3B4455;\n",
              "      fill: #D2E3FC;\n",
              "    }\n",
              "\n",
              "    [theme=dark] .colab-df-convert:hover {\n",
              "      background-color: #434B5C;\n",
              "      box-shadow: 0px 1px 3px 1px rgba(0, 0, 0, 0.15);\n",
              "      filter: drop-shadow(0px 1px 2px rgba(0, 0, 0, 0.3));\n",
              "      fill: #FFFFFF;\n",
              "    }\n",
              "  </style>\n",
              "\n",
              "      <script>\n",
              "        const buttonEl =\n",
              "          document.querySelector('#df-55019048-1107-43b6-bbaa-79b23502bff0 button.colab-df-convert');\n",
              "        buttonEl.style.display =\n",
              "          google.colab.kernel.accessAllowed ? 'block' : 'none';\n",
              "\n",
              "        async function convertToInteractive(key) {\n",
              "          const element = document.querySelector('#df-55019048-1107-43b6-bbaa-79b23502bff0');\n",
              "          const dataTable =\n",
              "            await google.colab.kernel.invokeFunction('convertToInteractive',\n",
              "                                                     [key], {});\n",
              "          if (!dataTable) return;\n",
              "\n",
              "          const docLinkHtml = 'Like what you see? Visit the ' +\n",
              "            '<a target=\"_blank\" href=https://colab.research.google.com/notebooks/data_table.ipynb>data table notebook</a>'\n",
              "            + ' to learn more about interactive tables.';\n",
              "          element.innerHTML = '';\n",
              "          dataTable['output_type'] = 'display_data';\n",
              "          await google.colab.output.renderOutput(dataTable, element);\n",
              "          const docLink = document.createElement('div');\n",
              "          docLink.innerHTML = docLinkHtml;\n",
              "          element.appendChild(docLink);\n",
              "        }\n",
              "      </script>\n",
              "    </div>\n",
              "  </div>\n",
              "  "
            ]
          },
          "metadata": {},
          "execution_count": 18
        }
      ]
    },
    {
      "cell_type": "markdown",
      "source": [
        "# Remodelagem do dataset.\n",
        "# Criar uma coluna com as matrizes."
      ],
      "metadata": {
        "id": "OwAyJdfTobqP"
      }
    },
    {
      "cell_type": "code",
      "source": [
        "df = pd.melt(df_merged, id_vars=\"CO_HABILIDADE\", var_name=\"MATRIZ\", value_name=\"count\")\n",
        "df\n"
      ],
      "metadata": {
        "colab": {
          "base_uri": "https://localhost:8080/",
          "height": 423
        },
        "id": "Y6sfkK_XdCUZ",
        "outputId": "bf9d1a01-c87d-4572-95c4-605cd5e24d4e"
      },
      "execution_count": 19,
      "outputs": [
        {
          "output_type": "execute_result",
          "data": {
            "text/plain": [
              "     CO_HABILIDADE MATRIZ  count\n",
              "0               22     MT      4\n",
              "1                6     MT      9\n",
              "2                7     MT     10\n",
              "3               15     MT     10\n",
              "4               11     MT     10\n",
              "..             ...    ...    ...\n",
              "115              4     LC     21\n",
              "116             12     LC     16\n",
              "117             14     LC     17\n",
              "118              1     LC     17\n",
              "119             21     LC     11\n",
              "\n",
              "[120 rows x 3 columns]"
            ],
            "text/html": [
              "\n",
              "  <div id=\"df-25e46dc1-3c66-4dec-b786-6d34007bb627\">\n",
              "    <div class=\"colab-df-container\">\n",
              "      <div>\n",
              "<style scoped>\n",
              "    .dataframe tbody tr th:only-of-type {\n",
              "        vertical-align: middle;\n",
              "    }\n",
              "\n",
              "    .dataframe tbody tr th {\n",
              "        vertical-align: top;\n",
              "    }\n",
              "\n",
              "    .dataframe thead th {\n",
              "        text-align: right;\n",
              "    }\n",
              "</style>\n",
              "<table border=\"1\" class=\"dataframe\">\n",
              "  <thead>\n",
              "    <tr style=\"text-align: right;\">\n",
              "      <th></th>\n",
              "      <th>CO_HABILIDADE</th>\n",
              "      <th>MATRIZ</th>\n",
              "      <th>count</th>\n",
              "    </tr>\n",
              "  </thead>\n",
              "  <tbody>\n",
              "    <tr>\n",
              "      <th>0</th>\n",
              "      <td>22</td>\n",
              "      <td>MT</td>\n",
              "      <td>4</td>\n",
              "    </tr>\n",
              "    <tr>\n",
              "      <th>1</th>\n",
              "      <td>6</td>\n",
              "      <td>MT</td>\n",
              "      <td>9</td>\n",
              "    </tr>\n",
              "    <tr>\n",
              "      <th>2</th>\n",
              "      <td>7</td>\n",
              "      <td>MT</td>\n",
              "      <td>10</td>\n",
              "    </tr>\n",
              "    <tr>\n",
              "      <th>3</th>\n",
              "      <td>15</td>\n",
              "      <td>MT</td>\n",
              "      <td>10</td>\n",
              "    </tr>\n",
              "    <tr>\n",
              "      <th>4</th>\n",
              "      <td>11</td>\n",
              "      <td>MT</td>\n",
              "      <td>10</td>\n",
              "    </tr>\n",
              "    <tr>\n",
              "      <th>...</th>\n",
              "      <td>...</td>\n",
              "      <td>...</td>\n",
              "      <td>...</td>\n",
              "    </tr>\n",
              "    <tr>\n",
              "      <th>115</th>\n",
              "      <td>4</td>\n",
              "      <td>LC</td>\n",
              "      <td>21</td>\n",
              "    </tr>\n",
              "    <tr>\n",
              "      <th>116</th>\n",
              "      <td>12</td>\n",
              "      <td>LC</td>\n",
              "      <td>16</td>\n",
              "    </tr>\n",
              "    <tr>\n",
              "      <th>117</th>\n",
              "      <td>14</td>\n",
              "      <td>LC</td>\n",
              "      <td>17</td>\n",
              "    </tr>\n",
              "    <tr>\n",
              "      <th>118</th>\n",
              "      <td>1</td>\n",
              "      <td>LC</td>\n",
              "      <td>17</td>\n",
              "    </tr>\n",
              "    <tr>\n",
              "      <th>119</th>\n",
              "      <td>21</td>\n",
              "      <td>LC</td>\n",
              "      <td>11</td>\n",
              "    </tr>\n",
              "  </tbody>\n",
              "</table>\n",
              "<p>120 rows × 3 columns</p>\n",
              "</div>\n",
              "      <button class=\"colab-df-convert\" onclick=\"convertToInteractive('df-25e46dc1-3c66-4dec-b786-6d34007bb627')\"\n",
              "              title=\"Convert this dataframe to an interactive table.\"\n",
              "              style=\"display:none;\">\n",
              "        \n",
              "  <svg xmlns=\"http://www.w3.org/2000/svg\" height=\"24px\"viewBox=\"0 0 24 24\"\n",
              "       width=\"24px\">\n",
              "    <path d=\"M0 0h24v24H0V0z\" fill=\"none\"/>\n",
              "    <path d=\"M18.56 5.44l.94 2.06.94-2.06 2.06-.94-2.06-.94-.94-2.06-.94 2.06-2.06.94zm-11 1L8.5 8.5l.94-2.06 2.06-.94-2.06-.94L8.5 2.5l-.94 2.06-2.06.94zm10 10l.94 2.06.94-2.06 2.06-.94-2.06-.94-.94-2.06-.94 2.06-2.06.94z\"/><path d=\"M17.41 7.96l-1.37-1.37c-.4-.4-.92-.59-1.43-.59-.52 0-1.04.2-1.43.59L10.3 9.45l-7.72 7.72c-.78.78-.78 2.05 0 2.83L4 21.41c.39.39.9.59 1.41.59.51 0 1.02-.2 1.41-.59l7.78-7.78 2.81-2.81c.8-.78.8-2.07 0-2.86zM5.41 20L4 18.59l7.72-7.72 1.47 1.35L5.41 20z\"/>\n",
              "  </svg>\n",
              "      </button>\n",
              "      \n",
              "  <style>\n",
              "    .colab-df-container {\n",
              "      display:flex;\n",
              "      flex-wrap:wrap;\n",
              "      gap: 12px;\n",
              "    }\n",
              "\n",
              "    .colab-df-convert {\n",
              "      background-color: #E8F0FE;\n",
              "      border: none;\n",
              "      border-radius: 50%;\n",
              "      cursor: pointer;\n",
              "      display: none;\n",
              "      fill: #1967D2;\n",
              "      height: 32px;\n",
              "      padding: 0 0 0 0;\n",
              "      width: 32px;\n",
              "    }\n",
              "\n",
              "    .colab-df-convert:hover {\n",
              "      background-color: #E2EBFA;\n",
              "      box-shadow: 0px 1px 2px rgba(60, 64, 67, 0.3), 0px 1px 3px 1px rgba(60, 64, 67, 0.15);\n",
              "      fill: #174EA6;\n",
              "    }\n",
              "\n",
              "    [theme=dark] .colab-df-convert {\n",
              "      background-color: #3B4455;\n",
              "      fill: #D2E3FC;\n",
              "    }\n",
              "\n",
              "    [theme=dark] .colab-df-convert:hover {\n",
              "      background-color: #434B5C;\n",
              "      box-shadow: 0px 1px 3px 1px rgba(0, 0, 0, 0.15);\n",
              "      filter: drop-shadow(0px 1px 2px rgba(0, 0, 0, 0.3));\n",
              "      fill: #FFFFFF;\n",
              "    }\n",
              "  </style>\n",
              "\n",
              "      <script>\n",
              "        const buttonEl =\n",
              "          document.querySelector('#df-25e46dc1-3c66-4dec-b786-6d34007bb627 button.colab-df-convert');\n",
              "        buttonEl.style.display =\n",
              "          google.colab.kernel.accessAllowed ? 'block' : 'none';\n",
              "\n",
              "        async function convertToInteractive(key) {\n",
              "          const element = document.querySelector('#df-25e46dc1-3c66-4dec-b786-6d34007bb627');\n",
              "          const dataTable =\n",
              "            await google.colab.kernel.invokeFunction('convertToInteractive',\n",
              "                                                     [key], {});\n",
              "          if (!dataTable) return;\n",
              "\n",
              "          const docLinkHtml = 'Like what you see? Visit the ' +\n",
              "            '<a target=\"_blank\" href=https://colab.research.google.com/notebooks/data_table.ipynb>data table notebook</a>'\n",
              "            + ' to learn more about interactive tables.';\n",
              "          element.innerHTML = '';\n",
              "          dataTable['output_type'] = 'display_data';\n",
              "          await google.colab.output.renderOutput(dataTable, element);\n",
              "          const docLink = document.createElement('div');\n",
              "          docLink.innerHTML = docLinkHtml;\n",
              "          element.appendChild(docLink);\n",
              "        }\n",
              "      </script>\n",
              "    </div>\n",
              "  </div>\n",
              "  "
            ]
          },
          "metadata": {},
          "execution_count": 19
        }
      ]
    },
    {
      "cell_type": "markdown",
      "source": [
        "# O gráfico mostra que algumas matrizes apresentam quantidades maiores de habilidades no Enem."
      ],
      "metadata": {
        "id": "CJHNyI63iPdT"
      }
    },
    {
      "cell_type": "code",
      "source": [
        "ax = sns.catplot(x='CO_HABILIDADE', y= 'count', hue='MATRIZ', data=df, kind='bar', height=5, aspect=3,legend_out=False)\n",
        "#sns.move_legend(ax, \"lower center\", bbox_to_anchor=(.5, .9), ncol=4, title=None, frameon=True)\n",
        "ax.fig.set_figwidth(17)\n",
        "ax.fig.set_figheight(7.7)\n",
        "# Show the plot\n",
        "plt.title('\\nTOTAL HABILIDADES por MATRIZ')\n",
        "plt.show()"
      ],
      "metadata": {
        "colab": {
          "base_uri": "https://localhost:8080/",
          "height": 566
        },
        "id": "Sii8tCoVUFG_",
        "outputId": "af5e55bc-d878-4f96-ca87-6c2becf7bd43"
      },
      "execution_count": 20,
      "outputs": [
        {
          "output_type": "display_data",
          "data": {
            "text/plain": [
              "<Figure size 1224x554.4 with 1 Axes>"
            ],
            "image/png": "[encoded data removed]"
          },
          "metadata": {
            "needs_background": "light"
          }
        }
      ]
    },
    {
      "cell_type": "code",
      "source": [
        "df_spark.filter((df_spark.SG_AREA=='LC') & (df_spark.CO_HABILIDADE=='16')).show(100)\n"
      ],
      "metadata": {
        "colab": {
          "base_uri": "https://localhost:8080/"
        },
        "id": "-hLa-cMic3yC",
        "outputId": "2a93058d-3d5b-4cd2-9529-c6e71a55be11"
      },
      "execution_count": 21,
      "outputs": [
        {
          "output_type": "stream",
          "name": "stdout",
          "text": [
            "+----------+-------+-------+-----------+-------------+-------+--------+---------+----------------+\n",
            "|CO_POSICAO|SG_AREA|CO_ITEM|TX_GABARITO|CO_HABILIDADE| TX_COR|CO_PROVA|TP_LINGUA|IN_ITEM_ADAPTADO|\n",
            "+----------+-------+-------+-----------+-------------+-------+--------+---------+----------------+\n",
            "|        14|     LC| 118232|          E|           16|   Azul|     511|     null|               0|\n",
            "|        22|     LC| 118306|          A|           16|   Azul|     511|     null|               0|\n",
            "|        28|     LC| 118278|          B|           16|   Azul|     511|     null|               0|\n",
            "|        41|     LC| 118276|          C|           16|   Azul|     511|     null|               0|\n",
            "|        10|     LC| 118306|          A|           16|Amarela|     512|     null|               0|\n",
            "|        14|     LC| 118278|          B|           16|Amarela|     512|     null|               0|\n",
            "|        25|     LC| 118276|          C|           16|Amarela|     512|     null|               0|\n",
            "|        43|     LC| 118232|          E|           16|Amarela|     512|     null|               0|\n",
            "|        11|     LC| 118276|          C|           16|   Rosa|     513|     null|               0|\n",
            "|        28|     LC| 118232|          E|           16|   Rosa|     513|     null|               0|\n",
            "|        37|     LC| 118306|          A|           16|   Rosa|     513|     null|               0|\n",
            "|        43|     LC| 118278|          B|           16|   Rosa|     513|     null|               0|\n",
            "|        22|     LC| 118232|          E|           16| Branca|     514|     null|               0|\n",
            "|        33|     LC| 118276|          C|           16| Branca|     514|     null|               0|\n",
            "|        39|     LC| 118278|          B|           16| Branca|     514|     null|               0|\n",
            "|        42|     LC| 118306|          A|           16| Branca|     514|     null|               0|\n",
            "|        10|     LC| 118306|          A|           16|Laranja|     521|     null|               0|\n",
            "|        14|     LC| 118278|          B|           16|Laranja|     521|     null|               0|\n",
            "|        25|     LC| 118276|          C|           16|Laranja|     521|     null|               0|\n",
            "|        43|     LC| 118232|          E|           16|Laranja|     521|     null|               0|\n",
            "|        10|     LC| 118306|          A|           16|  Verde|     525|     null|               1|\n",
            "|        14|     LC| 118278|          B|           16|  Verde|     525|     null|               1|\n",
            "|        25|     LC| 118276|          C|           16|  Verde|     525|     null|               1|\n",
            "|        43|     LC| 118232|          E|           16|  Verde|     525|     null|               1|\n",
            "|        24|     LC|  85698|          E|           16|   Azul|     551|     null|               0|\n",
            "|        29|     LC|  85873|          B|           16|   Azul|     551|     null|               0|\n",
            "|        31|     LC|  98288|          D|           16|   Azul|     551|     null|               0|\n",
            "|        44|     LC|  85383|          B|           16|   Azul|     551|     null|               0|\n",
            "|         8|     LC|  85383|          B|           16|Amarela|     552|     null|               0|\n",
            "|        18|     LC|  98288|          D|           16|Amarela|     552|     null|               0|\n",
            "|        21|     LC|  85873|          B|           16|Amarela|     552|     null|               0|\n",
            "|        27|     LC|  85698|          E|           16|Amarela|     552|     null|               0|\n",
            "|        14|     LC|  98288|          D|           16| Branca|     553|     null|               0|\n",
            "|        34|     LC|  85873|          B|           16| Branca|     553|     null|               0|\n",
            "|        38|     LC|  85383|          B|           16| Branca|     553|     null|               0|\n",
            "|        41|     LC|  85698|          E|           16| Branca|     553|     null|               0|\n",
            "|        10|     LC|  85698|          E|           16|   Rosa|     554|     null|               0|\n",
            "|        12|     LC|  85873|          B|           16|   Rosa|     554|     null|               0|\n",
            "|        16|     LC|  85383|          B|           16|   Rosa|     554|     null|               0|\n",
            "|        26|     LC|  98288|          D|           16|   Rosa|     554|     null|               0|\n",
            "|        24|     LC|  85698|          E|           16|Laranja|     565|     null|               0|\n",
            "|        29|     LC|  85873|          B|           16|Laranja|     565|     null|               0|\n",
            "|        31|     LC|  98288|          D|           16|Laranja|     565|     null|               0|\n",
            "|        44|     LC|  85383|          B|           16|Laranja|     565|     null|               0|\n",
            "+----------+-------+-------+-----------+-------------+-------+--------+---------+----------------+\n",
            "\n"
          ]
        }
      ]
    },
    {
      "cell_type": "markdown",
      "source": [
        "# Apresentar em cada AREA, quantidade de cada HABILIDADE presente.\n",
        "\n"
      ],
      "metadata": {
        "id": "2e5AV_B46fuw"
      }
    },
    {
      "cell_type": "code",
      "source": [
        "#definindo o tamanho das figuras\n",
        "fig = plt.figure(figsize=(20, 8))\n",
        "print(\"\\t\\t\\t\\t\\t\\t\\t\\tMATRIZES e HABILIDADES\\n\\t\\t\\t\\t\\t\\t\\t\\tOrdenado pela Habilidade\\n\")\n",
        "#espaço entre os gráficos\n",
        "plt.subplots_adjust(wspace=0.3,hspace=0.5)\n",
        "# Gráfico 1 - AREA MT\n",
        "ax1=fig.add_subplot(221)\n",
        "sns.barplot(x='CO_HABILIDADE',   y='MT', data=df_merged, color='blue')\n",
        "plt.title(\"Matriz MT e Quantidades por Habilidade\")\n",
        "# Gráfico 2 - AREA CN\n",
        "ax2=fig.add_subplot(222)\n",
        "sns.barplot(x='CO_HABILIDADE',   y='CN', data=df_merged, color='orange')\n",
        "plt.title(\"Matriz CN e Quantidades por Habilidade\")\n",
        "# Gráfico 3 - AREA CH\n",
        "ax3=fig.add_subplot(223)\n",
        "sns.barplot(x='CO_HABILIDADE',   y='CH', data=df_merged, color='green')\n",
        "plt.title(\"Matriz CH e Quantidades por Habilidade\")\n",
        "# Gráfico 4 - AREA LC\n",
        "ax4=fig.add_subplot(224)\n",
        "sns.barplot(x='CO_HABILIDADE',   y='LC', data=df_merged, color='red')\n",
        "plt.title(\"Matriz LC e Quantidades por Habilidade\");"
      ],
      "metadata": {
        "colab": {
          "base_uri": "https://localhost:8080/",
          "height": 566
        },
        "id": "nwNe2S5txfCi",
        "outputId": "30005335-80f2-46e3-dd01-cc9589927764"
      },
      "execution_count": 22,
      "outputs": [
        {
          "output_type": "stream",
          "name": "stdout",
          "text": [
            "\t\t\t\t\t\t\t\tMATRIZES e HABILIDADES\n",
            "\t\t\t\t\t\t\t\tOrdenado pela Habilidade\n",
            "\n"
          ]
        },
        {
          "output_type": "display_data",
          "data": {
            "text/plain": [
              "<Figure size 1440x576 with 4 Axes>"
            ],
            "image/png": "[encoded data removed]"
          },
          "metadata": {
            "needs_background": "light"
          }
        }
      ]
    },
    {
      "cell_type": "code",
      "source": [
        "#definindo o tamanho das figuras\n",
        "fig = plt.figure(figsize=(20, 8))\n",
        "print(\"\\t\\t\\t\\t\\t\\t\\t\\tMATRIZES e HABILIDADES\\n\\t\\t\\t\\t\\t\\t\\tOrdenado pelo contagem total da habilidade\\n\")\n",
        "#espaço entre os gráficos\n",
        "plt.subplots_adjust(wspace=0.3,hspace=0.5)\n",
        "# Gráfico 1 - AREA MT\n",
        "ax1=fig.add_subplot(221)\n",
        "sns.barplot(x='CO_HABILIDADE',   y='MT', data=df_MT2, color='blue')\n",
        "plt.title(\"Matriz MT e Quantidades por Habilidade\")\n",
        "ax1.set_ylabel('count_MT')\n",
        "ax1.set_xlabel('CO_HABILIDADE')\n",
        "# Gráfico 2 - AREA CN\n",
        "ax2=fig.add_subplot(222)\n",
        "sns.barplot(x='CO_HABILIDADE',   y='CN', data=df_CN2, color='orange' )\n",
        "plt.title(\"Matriz CN e Quantidades por Habilidade\")\n",
        "ax2.set_ylabel('count_CN')\n",
        "ax2.set_xlabel('CO_HABILIDADE')\n",
        "# Gráfico 3 - AREA CH\n",
        "ax3=fig.add_subplot(223)\n",
        "sns.barplot(x='CO_HABILIDADE',   y='CH', data=df_CH2, color='green')\n",
        "plt.title(\"Matriz CH e Quantidades por Habilidade\")\n",
        "ax3.set_ylabel('count_CH')\n",
        "ax3.set_xlabel('CO_HABILIDADE')\n",
        "# Gráfico 4 - AREA LC\n",
        "ax4=fig.add_subplot(224)\n",
        "sns.barplot(x='CO_HABILIDADE',   y='LC', data=df_LC2, color='red')\n",
        "plt.title(\"Matriz LC e Quantidades por Habilidade\")\n",
        "ax4.set_ylabel('count_LC')\n",
        "ax4.set_xlabel('CO_HABILIDADE');"
      ],
      "metadata": {
        "colab": {
          "base_uri": "https://localhost:8080/",
          "height": 566
        },
        "id": "n8NsuWiCE3Vv",
        "outputId": "924d9bc7-5ade-4787-84fb-ce97d5e67d40"
      },
      "execution_count": 23,
      "outputs": [
        {
          "output_type": "stream",
          "name": "stdout",
          "text": [
            "\t\t\t\t\t\t\t\tMATRIZES e HABILIDADES\n",
            "\t\t\t\t\t\t\tOrdenado pelo contagem total da habilidade\n",
            "\n"
          ]
        },
        {
          "output_type": "display_data",
          "data": {
            "text/plain": [
              "<Figure size 1440x576 with 4 Axes>"
            ],
            "image/png": "[encoded data removed]"
          },
          "metadata": {
            "needs_background": "light"
          }
        }
      ]
    },
    {
      "cell_type": "markdown",
      "source": [
        "# *4) Você encontrou mais alguma informação relevante sobre a análise? Se sim, qual(ais)?*"
      ],
      "metadata": {
        "id": "lLcmsJ-3BBFu"
      }
    },
    {
      "cell_type": "code",
      "source": [
        "df_spark.show()"
      ],
      "metadata": {
        "colab": {
          "base_uri": "https://localhost:8080/"
        },
        "id": "-sppk1zQqMKQ",
        "outputId": "3cb32aae-21fd-4a5a-931c-8649641dabbc"
      },
      "execution_count": 24,
      "outputs": [
        {
          "output_type": "stream",
          "name": "stdout",
          "text": [
            "+----------+-------+-------+-----------+-------------+------+--------+---------+----------------+\n",
            "|CO_POSICAO|SG_AREA|CO_ITEM|TX_GABARITO|CO_HABILIDADE|TX_COR|CO_PROVA|TP_LINGUA|IN_ITEM_ADAPTADO|\n",
            "+----------+-------+-------+-----------+-------------+------+--------+---------+----------------+\n",
            "|         1|     LC|  55166|          B|            7|  Azul|     511|        0|               0|\n",
            "|         2|     LC|  54110|          D|            7|  Azul|     511|        0|               0|\n",
            "|         3|     LC|  23564|          A|            6|  Azul|     511|        0|               0|\n",
            "|         4|     LC|  31954|          B|            8|  Azul|     511|        0|               0|\n",
            "|         5|     LC| 118180|          E|            5|  Azul|     511|        0|               0|\n",
            "|         1|     LC|  96705|          A|            8|  Azul|     511|        1|               0|\n",
            "|         2|     LC| 118222|          B|            5|  Azul|     511|        1|               0|\n",
            "|         3|     LC|  39016|          C|            7|  Azul|     511|        1|               0|\n",
            "|         4|     LC| 118167|          A|            8|  Azul|     511|        1|               0|\n",
            "|         5|     LC|  48558|          D|            6|  Azul|     511|        1|               0|\n",
            "|         6|     LC|  86563|          B|            3|  Azul|     511|     null|               0|\n",
            "|         7|     LC| 118161|          C|           24|  Azul|     511|     null|               0|\n",
            "|         8|     LC| 118147|          B|           23|  Azul|     511|     null|               0|\n",
            "|         9|     LC| 118118|          A|            9|  Azul|     511|     null|               0|\n",
            "|        10|     LC| 118215|          A|            2|  Azul|     511|     null|               0|\n",
            "|        11|     LC| 118207|          D|           11|  Azul|     511|     null|               0|\n",
            "|        12|     LC| 118170|          D|           23|  Azul|     511|     null|               0|\n",
            "|        13|     LC|  90165|          B|           15|  Azul|     511|     null|               0|\n",
            "|        14|     LC| 118232|          E|           16|  Azul|     511|     null|               0|\n",
            "|        15|     LC| 118174|          C|           19|  Azul|     511|     null|               0|\n",
            "+----------+-------+-------+-----------+-------------+------+--------+---------+----------------+\n",
            "only showing top 20 rows\n",
            "\n"
          ]
        }
      ]
    },
    {
      "cell_type": "code",
      "source": [
        "df= df_spark.toPandas()\n",
        "df.shape"
      ],
      "metadata": {
        "colab": {
          "base_uri": "https://localhost:8080/"
        },
        "id": "dUROv3pQB6K4",
        "outputId": "69319acc-d7da-4969-8039-ac926d63a8c6"
      },
      "execution_count": 25,
      "outputs": [
        {
          "output_type": "execute_result",
          "data": {
            "text/plain": [
              "(1945, 9)"
            ]
          },
          "metadata": {},
          "execution_count": 25
        }
      ]
    },
    {
      "cell_type": "markdown",
      "source": [
        "# Coluna TP_LINGUA com 94.3% de valores ausentes."
      ],
      "metadata": {
        "id": "sd7felHfqexQ"
      }
    },
    {
      "cell_type": "code",
      "source": [
        "missing_values_table(df)"
      ],
      "metadata": {
        "colab": {
          "base_uri": "https://localhost:8080/",
          "height": 115
        },
        "id": "YncjcupxC3rf",
        "outputId": "7eced162-e8ca-4887-ea9e-29207bcdae40"
      },
      "execution_count": 26,
      "outputs": [
        {
          "output_type": "stream",
          "name": "stdout",
          "text": [
            "Seu dataframe tem 9 colunas.\n",
            "Há 1 colunas que possuem valores ausentes.\n"
          ]
        },
        {
          "output_type": "execute_result",
          "data": {
            "text/plain": [
              "           Missing Values  % of Total Values\n",
              "TP_LINGUA            1835               94.3"
            ],
            "text/html": [
              "\n",
              "  <div id=\"df-42c8c301-fe70-4cb3-a992-f89b533f73ae\">\n",
              "    <div class=\"colab-df-container\">\n",
              "      <div>\n",
              "<style scoped>\n",
              "    .dataframe tbody tr th:only-of-type {\n",
              "        vertical-align: middle;\n",
              "    }\n",
              "\n",
              "    .dataframe tbody tr th {\n",
              "        vertical-align: top;\n",
              "    }\n",
              "\n",
              "    .dataframe thead th {\n",
              "        text-align: right;\n",
              "    }\n",
              "</style>\n",
              "<table border=\"1\" class=\"dataframe\">\n",
              "  <thead>\n",
              "    <tr style=\"text-align: right;\">\n",
              "      <th></th>\n",
              "      <th>Missing Values</th>\n",
              "      <th>% of Total Values</th>\n",
              "    </tr>\n",
              "  </thead>\n",
              "  <tbody>\n",
              "    <tr>\n",
              "      <th>TP_LINGUA</th>\n",
              "      <td>1835</td>\n",
              "      <td>94.3</td>\n",
              "    </tr>\n",
              "  </tbody>\n",
              "</table>\n",
              "</div>\n",
              "      <button class=\"colab-df-convert\" onclick=\"convertToInteractive('df-42c8c301-fe70-4cb3-a992-f89b533f73ae')\"\n",
              "              title=\"Convert this dataframe to an interactive table.\"\n",
              "              style=\"display:none;\">\n",
              "        \n",
              "  <svg xmlns=\"http://www.w3.org/2000/svg\" height=\"24px\"viewBox=\"0 0 24 24\"\n",
              "       width=\"24px\">\n",
              "    <path d=\"M0 0h24v24H0V0z\" fill=\"none\"/>\n",
              "    <path d=\"M18.56 5.44l.94 2.06.94-2.06 2.06-.94-2.06-.94-.94-2.06-.94 2.06-2.06.94zm-11 1L8.5 8.5l.94-2.06 2.06-.94-2.06-.94L8.5 2.5l-.94 2.06-2.06.94zm10 10l.94 2.06.94-2.06 2.06-.94-2.06-.94-.94-2.06-.94 2.06-2.06.94z\"/><path d=\"M17.41 7.96l-1.37-1.37c-.4-.4-.92-.59-1.43-.59-.52 0-1.04.2-1.43.59L10.3 9.45l-7.72 7.72c-.78.78-.78 2.05 0 2.83L4 21.41c.39.39.9.59 1.41.59.51 0 1.02-.2 1.41-.59l7.78-7.78 2.81-2.81c.8-.78.8-2.07 0-2.86zM5.41 20L4 18.59l7.72-7.72 1.47 1.35L5.41 20z\"/>\n",
              "  </svg>\n",
              "      </button>\n",
              "      \n",
              "  <style>\n",
              "    .colab-df-container {\n",
              "      display:flex;\n",
              "      flex-wrap:wrap;\n",
              "      gap: 12px;\n",
              "    }\n",
              "\n",
              "    .colab-df-convert {\n",
              "      background-color: #E8F0FE;\n",
              "      border: none;\n",
              "      border-radius: 50%;\n",
              "      cursor: pointer;\n",
              "      display: none;\n",
              "      fill: #1967D2;\n",
              "      height: 32px;\n",
              "      padding: 0 0 0 0;\n",
              "      width: 32px;\n",
              "    }\n",
              "\n",
              "    .colab-df-convert:hover {\n",
              "      background-color: #E2EBFA;\n",
              "      box-shadow: 0px 1px 2px rgba(60, 64, 67, 0.3), 0px 1px 3px 1px rgba(60, 64, 67, 0.15);\n",
              "      fill: #174EA6;\n",
              "    }\n",
              "\n",
              "    [theme=dark] .colab-df-convert {\n",
              "      background-color: #3B4455;\n",
              "      fill: #D2E3FC;\n",
              "    }\n",
              "\n",
              "    [theme=dark] .colab-df-convert:hover {\n",
              "      background-color: #434B5C;\n",
              "      box-shadow: 0px 1px 3px 1px rgba(0, 0, 0, 0.15);\n",
              "      filter: drop-shadow(0px 1px 2px rgba(0, 0, 0, 0.3));\n",
              "      fill: #FFFFFF;\n",
              "    }\n",
              "  </style>\n",
              "\n",
              "      <script>\n",
              "        const buttonEl =\n",
              "          document.querySelector('#df-42c8c301-fe70-4cb3-a992-f89b533f73ae button.colab-df-convert');\n",
              "        buttonEl.style.display =\n",
              "          google.colab.kernel.accessAllowed ? 'block' : 'none';\n",
              "\n",
              "        async function convertToInteractive(key) {\n",
              "          const element = document.querySelector('#df-42c8c301-fe70-4cb3-a992-f89b533f73ae');\n",
              "          const dataTable =\n",
              "            await google.colab.kernel.invokeFunction('convertToInteractive',\n",
              "                                                     [key], {});\n",
              "          if (!dataTable) return;\n",
              "\n",
              "          const docLinkHtml = 'Like what you see? Visit the ' +\n",
              "            '<a target=\"_blank\" href=https://colab.research.google.com/notebooks/data_table.ipynb>data table notebook</a>'\n",
              "            + ' to learn more about interactive tables.';\n",
              "          element.innerHTML = '';\n",
              "          dataTable['output_type'] = 'display_data';\n",
              "          await google.colab.output.renderOutput(dataTable, element);\n",
              "          const docLink = document.createElement('div');\n",
              "          docLink.innerHTML = docLinkHtml;\n",
              "          element.appendChild(docLink);\n",
              "        }\n",
              "      </script>\n",
              "    </div>\n",
              "  </div>\n",
              "  "
            ]
          },
          "metadata": {},
          "execution_count": 26
        }
      ]
    },
    {
      "cell_type": "markdown",
      "source": [
        "# Distribuição do Gabarito entre as areas ou matrizes.\n",
        "\n",
        "\n"
      ],
      "metadata": {
        "id": "VDBMbxdESVRC"
      }
    },
    {
      "cell_type": "code",
      "source": [
        "df.TX_GABARITO.value_counts()"
      ],
      "metadata": {
        "colab": {
          "base_uri": "https://localhost:8080/"
        },
        "id": "DQJPfsOfYTIt",
        "outputId": "e7fd8b25-1c85-4862-8a4b-195e12b633a9"
      },
      "execution_count": 27,
      "outputs": [
        {
          "output_type": "execute_result",
          "data": {
            "text/plain": [
              "B    434\n",
              "C    403\n",
              "A    378\n",
              "E    369\n",
              "D    361\n",
              "Name: TX_GABARITO, dtype: int64"
            ]
          },
          "metadata": {},
          "execution_count": 27
        }
      ]
    },
    {
      "cell_type": "code",
      "source": [
        "df3 = df.groupby(['TX_GABARITO', 'SG_AREA']).size().reset_index(name='count')\n",
        "#\n",
        "ax1 = sns.catplot(x='SG_AREA', y= 'count', hue='TX_GABARITO', data=df3, kind='bar', height=5, aspect=3,legend_out=False)\n",
        "#sns.move_legend(ax, \"lower center\", bbox_to_anchor=(.5, .9), ncol=4, title=None, frameon=True)\n",
        "ax.fig.set_figwidth(17)\n",
        "ax.fig.set_figheight(7.7)\n",
        "# Show the plot\n",
        "plt.title('\\nDISTRIBUIÇÃO do GABARITO por MATRIZ')\n",
        "plt.show()"
      ],
      "metadata": {
        "colab": {
          "base_uri": "https://localhost:8080/",
          "height": 403
        },
        "id": "OtyETVREoF9J",
        "outputId": "ff0f8c3a-82a3-4f95-92c7-92d599e4c418"
      },
      "execution_count": 28,
      "outputs": [
        {
          "output_type": "display_data",
          "data": {
            "text/plain": [
              "<Figure size 1080x360 with 1 Axes>"
            ],
            "image/png": "[encoded data removed]"
          },
          "metadata": {
            "needs_background": "light"
          }
        }
      ]
    },
    {
      "cell_type": "code",
      "source": [
        "df4 = df.groupby(['TX_GABARITO', 'TX_COR']).size().reset_index(name='count')\n",
        "#\n",
        "ax1 = sns.catplot(x='TX_COR', y= 'count', hue='TX_GABARITO', data=df4, kind='bar', height=5, aspect=3,legend_out=False)\n",
        "#sns.move_legend(ax, \"lower center\", bbox_to_anchor=(.5, .9), ncol=4, title=None, frameon=True)\n",
        "ax.fig.set_figwidth(17)\n",
        "ax.fig.set_figheight(7.7)\n",
        "# Show the plot\n",
        "plt.title('\\nDISTRIBUIÇÃO do GABARITO por COR da PROVA')\n",
        "plt.show()"
      ],
      "metadata": {
        "colab": {
          "base_uri": "https://localhost:8080/",
          "height": 403
        },
        "id": "7Sdr-2N9sUKt",
        "outputId": "cf45f3c9-9398-40de-82b8-10f56d40595c"
      },
      "execution_count": 29,
      "outputs": [
        {
          "output_type": "display_data",
          "data": {
            "text/plain": [
              "<Figure size 1080x360 with 1 Axes>"
            ],
            "image/png": "[encoded data removed]"
          },
          "metadata": {
            "needs_background": "light"
          }
        }
      ]
    },
    {
      "cell_type": "markdown",
      "source": [
        "# Quantidade de provas por Cor no Enem."
      ],
      "metadata": {
        "id": "rXBDk4i1tVWD"
      }
    },
    {
      "cell_type": "code",
      "source": [
        "df.TX_COR.value_counts()"
      ],
      "metadata": {
        "colab": {
          "base_uri": "https://localhost:8080/"
        },
        "id": "8SLrpeJsEOxe",
        "outputId": "46102358-f873-42fa-a9e4-e3e3da72b666"
      },
      "execution_count": 30,
      "outputs": [
        {
          "output_type": "execute_result",
          "data": {
            "text/plain": [
              "Azul       370\n",
              "Amarela    370\n",
              "Rosa       370\n",
              "Laranja    280\n",
              "Branca     190\n",
              "Verde      185\n",
              "Cinza      180\n",
              "Name: TX_COR, dtype: int64"
            ]
          },
          "metadata": {},
          "execution_count": 30
        }
      ]
    },
    {
      "cell_type": "markdown",
      "source": [
        "## Distribuição da cor da prova pelas 4 areas"
      ],
      "metadata": {
        "id": "6Nk1bhQpDTWC"
      }
    },
    {
      "cell_type": "code",
      "source": [
        "temp = df.groupby(['SG_AREA','TX_COR']).size().reset_index(name='count_area_cor_prova')\n",
        "temp"
      ],
      "metadata": {
        "colab": {
          "base_uri": "https://localhost:8080/",
          "height": 802
        },
        "id": "MiugNPFQJpyt",
        "outputId": "647b515f-78bc-44a1-f525-10644207f714"
      },
      "execution_count": 31,
      "outputs": [
        {
          "output_type": "execute_result",
          "data": {
            "text/plain": [
              "   SG_AREA   TX_COR  count_area_cor_prova\n",
              "0       CH  Amarela                    90\n",
              "1       CH     Azul                    90\n",
              "2       CH   Branca                    90\n",
              "3       CH  Laranja                    90\n",
              "4       CH     Rosa                    90\n",
              "5       CH    Verde                    45\n",
              "6       CN  Amarela                    90\n",
              "7       CN     Azul                    90\n",
              "8       CN    Cinza                    90\n",
              "9       CN  Laranja                    45\n",
              "10      CN     Rosa                    90\n",
              "11      CN    Verde                    45\n",
              "12      LC  Amarela                   100\n",
              "13      LC     Azul                   100\n",
              "14      LC   Branca                   100\n",
              "15      LC  Laranja                   100\n",
              "16      LC     Rosa                   100\n",
              "17      LC    Verde                    50\n",
              "18      MT  Amarela                    90\n",
              "19      MT     Azul                    90\n",
              "20      MT    Cinza                    90\n",
              "21      MT  Laranja                    45\n",
              "22      MT     Rosa                    90\n",
              "23      MT    Verde                    45"
            ],
            "text/html": [
              "\n",
              "  <div id=\"df-428b0092-bfca-4458-9c0a-cafcd429dfa5\">\n",
              "    <div class=\"colab-df-container\">\n",
              "      <div>\n",
              "<style scoped>\n",
              "    .dataframe tbody tr th:only-of-type {\n",
              "        vertical-align: middle;\n",
              "    }\n",
              "\n",
              "    .dataframe tbody tr th {\n",
              "        vertical-align: top;\n",
              "    }\n",
              "\n",
              "    .dataframe thead th {\n",
              "        text-align: right;\n",
              "    }\n",
              "</style>\n",
              "<table border=\"1\" class=\"dataframe\">\n",
              "  <thead>\n",
              "    <tr style=\"text-align: right;\">\n",
              "      <th></th>\n",
              "      <th>SG_AREA</th>\n",
              "      <th>TX_COR</th>\n",
              "      <th>count_area_cor_prova</th>\n",
              "    </tr>\n",
              "  </thead>\n",
              "  <tbody>\n",
              "    <tr>\n",
              "      <th>0</th>\n",
              "      <td>CH</td>\n",
              "      <td>Amarela</td>\n",
              "      <td>90</td>\n",
              "    </tr>\n",
              "    <tr>\n",
              "      <th>1</th>\n",
              "      <td>CH</td>\n",
              "      <td>Azul</td>\n",
              "      <td>90</td>\n",
              "    </tr>\n",
              "    <tr>\n",
              "      <th>2</th>\n",
              "      <td>CH</td>\n",
              "      <td>Branca</td>\n",
              "      <td>90</td>\n",
              "    </tr>\n",
              "    <tr>\n",
              "      <th>3</th>\n",
              "      <td>CH</td>\n",
              "      <td>Laranja</td>\n",
              "      <td>90</td>\n",
              "    </tr>\n",
              "    <tr>\n",
              "      <th>4</th>\n",
              "      <td>CH</td>\n",
              "      <td>Rosa</td>\n",
              "      <td>90</td>\n",
              "    </tr>\n",
              "    <tr>\n",
              "      <th>5</th>\n",
              "      <td>CH</td>\n",
              "      <td>Verde</td>\n",
              "      <td>45</td>\n",
              "    </tr>\n",
              "    <tr>\n",
              "      <th>6</th>\n",
              "      <td>CN</td>\n",
              "      <td>Amarela</td>\n",
              "      <td>90</td>\n",
              "    </tr>\n",
              "    <tr>\n",
              "      <th>7</th>\n",
              "      <td>CN</td>\n",
              "      <td>Azul</td>\n",
              "      <td>90</td>\n",
              "    </tr>\n",
              "    <tr>\n",
              "      <th>8</th>\n",
              "      <td>CN</td>\n",
              "      <td>Cinza</td>\n",
              "      <td>90</td>\n",
              "    </tr>\n",
              "    <tr>\n",
              "      <th>9</th>\n",
              "      <td>CN</td>\n",
              "      <td>Laranja</td>\n",
              "      <td>45</td>\n",
              "    </tr>\n",
              "    <tr>\n",
              "      <th>10</th>\n",
              "      <td>CN</td>\n",
              "      <td>Rosa</td>\n",
              "      <td>90</td>\n",
              "    </tr>\n",
              "    <tr>\n",
              "      <th>11</th>\n",
              "      <td>CN</td>\n",
              "      <td>Verde</td>\n",
              "      <td>45</td>\n",
              "    </tr>\n",
              "    <tr>\n",
              "      <th>12</th>\n",
              "      <td>LC</td>\n",
              "      <td>Amarela</td>\n",
              "      <td>100</td>\n",
              "    </tr>\n",
              "    <tr>\n",
              "      <th>13</th>\n",
              "      <td>LC</td>\n",
              "      <td>Azul</td>\n",
              "      <td>100</td>\n",
              "    </tr>\n",
              "    <tr>\n",
              "      <th>14</th>\n",
              "      <td>LC</td>\n",
              "      <td>Branca</td>\n",
              "      <td>100</td>\n",
              "    </tr>\n",
              "    <tr>\n",
              "      <th>15</th>\n",
              "      <td>LC</td>\n",
              "      <td>Laranja</td>\n",
              "      <td>100</td>\n",
              "    </tr>\n",
              "    <tr>\n",
              "      <th>16</th>\n",
              "      <td>LC</td>\n",
              "      <td>Rosa</td>\n",
              "      <td>100</td>\n",
              "    </tr>\n",
              "    <tr>\n",
              "      <th>17</th>\n",
              "      <td>LC</td>\n",
              "      <td>Verde</td>\n",
              "      <td>50</td>\n",
              "    </tr>\n",
              "    <tr>\n",
              "      <th>18</th>\n",
              "      <td>MT</td>\n",
              "      <td>Amarela</td>\n",
              "      <td>90</td>\n",
              "    </tr>\n",
              "    <tr>\n",
              "      <th>19</th>\n",
              "      <td>MT</td>\n",
              "      <td>Azul</td>\n",
              "      <td>90</td>\n",
              "    </tr>\n",
              "    <tr>\n",
              "      <th>20</th>\n",
              "      <td>MT</td>\n",
              "      <td>Cinza</td>\n",
              "      <td>90</td>\n",
              "    </tr>\n",
              "    <tr>\n",
              "      <th>21</th>\n",
              "      <td>MT</td>\n",
              "      <td>Laranja</td>\n",
              "      <td>45</td>\n",
              "    </tr>\n",
              "    <tr>\n",
              "      <th>22</th>\n",
              "      <td>MT</td>\n",
              "      <td>Rosa</td>\n",
              "      <td>90</td>\n",
              "    </tr>\n",
              "    <tr>\n",
              "      <th>23</th>\n",
              "      <td>MT</td>\n",
              "      <td>Verde</td>\n",
              "      <td>45</td>\n",
              "    </tr>\n",
              "  </tbody>\n",
              "</table>\n",
              "</div>\n",
              "      <button class=\"colab-df-convert\" onclick=\"convertToInteractive('df-428b0092-bfca-4458-9c0a-cafcd429dfa5')\"\n",
              "              title=\"Convert this dataframe to an interactive table.\"\n",
              "              style=\"display:none;\">\n",
              "        \n",
              "  <svg xmlns=\"http://www.w3.org/2000/svg\" height=\"24px\"viewBox=\"0 0 24 24\"\n",
              "       width=\"24px\">\n",
              "    <path d=\"M0 0h24v24H0V0z\" fill=\"none\"/>\n",
              "    <path d=\"M18.56 5.44l.94 2.06.94-2.06 2.06-.94-2.06-.94-.94-2.06-.94 2.06-2.06.94zm-11 1L8.5 8.5l.94-2.06 2.06-.94-2.06-.94L8.5 2.5l-.94 2.06-2.06.94zm10 10l.94 2.06.94-2.06 2.06-.94-2.06-.94-.94-2.06-.94 2.06-2.06.94z\"/><path d=\"M17.41 7.96l-1.37-1.37c-.4-.4-.92-.59-1.43-.59-.52 0-1.04.2-1.43.59L10.3 9.45l-7.72 7.72c-.78.78-.78 2.05 0 2.83L4 21.41c.39.39.9.59 1.41.59.51 0 1.02-.2 1.41-.59l7.78-7.78 2.81-2.81c.8-.78.8-2.07 0-2.86zM5.41 20L4 18.59l7.72-7.72 1.47 1.35L5.41 20z\"/>\n",
              "  </svg>\n",
              "      </button>\n",
              "      \n",
              "  <style>\n",
              "    .colab-df-container {\n",
              "      display:flex;\n",
              "      flex-wrap:wrap;\n",
              "      gap: 12px;\n",
              "    }\n",
              "\n",
              "    .colab-df-convert {\n",
              "      background-color: #E8F0FE;\n",
              "      border: none;\n",
              "      border-radius: 50%;\n",
              "      cursor: pointer;\n",
              "      display: none;\n",
              "      fill: #1967D2;\n",
              "      height: 32px;\n",
              "      padding: 0 0 0 0;\n",
              "      width: 32px;\n",
              "    }\n",
              "\n",
              "    .colab-df-convert:hover {\n",
              "      background-color: #E2EBFA;\n",
              "      box-shadow: 0px 1px 2px rgba(60, 64, 67, 0.3), 0px 1px 3px 1px rgba(60, 64, 67, 0.15);\n",
              "      fill: #174EA6;\n",
              "    }\n",
              "\n",
              "    [theme=dark] .colab-df-convert {\n",
              "      background-color: #3B4455;\n",
              "      fill: #D2E3FC;\n",
              "    }\n",
              "\n",
              "    [theme=dark] .colab-df-convert:hover {\n",
              "      background-color: #434B5C;\n",
              "      box-shadow: 0px 1px 3px 1px rgba(0, 0, 0, 0.15);\n",
              "      filter: drop-shadow(0px 1px 2px rgba(0, 0, 0, 0.3));\n",
              "      fill: #FFFFFF;\n",
              "    }\n",
              "  </style>\n",
              "\n",
              "      <script>\n",
              "        const buttonEl =\n",
              "          document.querySelector('#df-428b0092-bfca-4458-9c0a-cafcd429dfa5 button.colab-df-convert');\n",
              "        buttonEl.style.display =\n",
              "          google.colab.kernel.accessAllowed ? 'block' : 'none';\n",
              "\n",
              "        async function convertToInteractive(key) {\n",
              "          const element = document.querySelector('#df-428b0092-bfca-4458-9c0a-cafcd429dfa5');\n",
              "          const dataTable =\n",
              "            await google.colab.kernel.invokeFunction('convertToInteractive',\n",
              "                                                     [key], {});\n",
              "          if (!dataTable) return;\n",
              "\n",
              "          const docLinkHtml = 'Like what you see? Visit the ' +\n",
              "            '<a target=\"_blank\" href=https://colab.research.google.com/notebooks/data_table.ipynb>data table notebook</a>'\n",
              "            + ' to learn more about interactive tables.';\n",
              "          element.innerHTML = '';\n",
              "          dataTable['output_type'] = 'display_data';\n",
              "          await google.colab.output.renderOutput(dataTable, element);\n",
              "          const docLink = document.createElement('div');\n",
              "          docLink.innerHTML = docLinkHtml;\n",
              "          element.appendChild(docLink);\n",
              "        }\n",
              "      </script>\n",
              "    </div>\n",
              "  </div>\n",
              "  "
            ]
          },
          "metadata": {},
          "execution_count": 31
        }
      ]
    },
    {
      "cell_type": "markdown",
      "source": [
        "## Número 4 e 2 representam a quantidade de areas onde a cor aparece."
      ],
      "metadata": {
        "id": "-GkrRxZZb1Fo"
      }
    },
    {
      "cell_type": "code",
      "source": [
        "temp.TX_COR.value_counts()"
      ],
      "metadata": {
        "colab": {
          "base_uri": "https://localhost:8080/"
        },
        "id": "jpKo9sSw2vgX",
        "outputId": "ee558af1-649e-4527-ca82-75c224c2664a"
      },
      "execution_count": 32,
      "outputs": [
        {
          "output_type": "execute_result",
          "data": {
            "text/plain": [
              "Amarela    4\n",
              "Azul       4\n",
              "Laranja    4\n",
              "Rosa       4\n",
              "Verde      4\n",
              "Branca     2\n",
              "Cinza      2\n",
              "Name: TX_COR, dtype: int64"
            ]
          },
          "metadata": {},
          "execution_count": 32
        }
      ]
    },
    {
      "cell_type": "code",
      "source": [
        "temp.loc[temp.TX_COR=='Azul']"
      ],
      "metadata": {
        "colab": {
          "base_uri": "https://localhost:8080/",
          "height": 175
        },
        "id": "RNmwNAGx3hME",
        "outputId": "ce6f4b2e-5a7a-4141-818c-84e374140106"
      },
      "execution_count": 33,
      "outputs": [
        {
          "output_type": "execute_result",
          "data": {
            "text/plain": [
              "   SG_AREA TX_COR  count_area_cor_prova\n",
              "1       CH   Azul                    90\n",
              "7       CN   Azul                    90\n",
              "13      LC   Azul                   100\n",
              "19      MT   Azul                    90"
            ],
            "text/html": [
              "\n",
              "  <div id=\"df-2191ec3e-66e6-4e43-9714-0a882912e4cb\">\n",
              "    <div class=\"colab-df-container\">\n",
              "      <div>\n",
              "<style scoped>\n",
              "    .dataframe tbody tr th:only-of-type {\n",
              "        vertical-align: middle;\n",
              "    }\n",
              "\n",
              "    .dataframe tbody tr th {\n",
              "        vertical-align: top;\n",
              "    }\n",
              "\n",
              "    .dataframe thead th {\n",
              "        text-align: right;\n",
              "    }\n",
              "</style>\n",
              "<table border=\"1\" class=\"dataframe\">\n",
              "  <thead>\n",
              "    <tr style=\"text-align: right;\">\n",
              "      <th></th>\n",
              "      <th>SG_AREA</th>\n",
              "      <th>TX_COR</th>\n",
              "      <th>count_area_cor_prova</th>\n",
              "    </tr>\n",
              "  </thead>\n",
              "  <tbody>\n",
              "    <tr>\n",
              "      <th>1</th>\n",
              "      <td>CH</td>\n",
              "      <td>Azul</td>\n",
              "      <td>90</td>\n",
              "    </tr>\n",
              "    <tr>\n",
              "      <th>7</th>\n",
              "      <td>CN</td>\n",
              "      <td>Azul</td>\n",
              "      <td>90</td>\n",
              "    </tr>\n",
              "    <tr>\n",
              "      <th>13</th>\n",
              "      <td>LC</td>\n",
              "      <td>Azul</td>\n",
              "      <td>100</td>\n",
              "    </tr>\n",
              "    <tr>\n",
              "      <th>19</th>\n",
              "      <td>MT</td>\n",
              "      <td>Azul</td>\n",
              "      <td>90</td>\n",
              "    </tr>\n",
              "  </tbody>\n",
              "</table>\n",
              "</div>\n",
              "      <button class=\"colab-df-convert\" onclick=\"convertToInteractive('df-2191ec3e-66e6-4e43-9714-0a882912e4cb')\"\n",
              "              title=\"Convert this dataframe to an interactive table.\"\n",
              "              style=\"display:none;\">\n",
              "        \n",
              "  <svg xmlns=\"http://www.w3.org/2000/svg\" height=\"24px\"viewBox=\"0 0 24 24\"\n",
              "       width=\"24px\">\n",
              "    <path d=\"M0 0h24v24H0V0z\" fill=\"none\"/>\n",
              "    <path d=\"M18.56 5.44l.94 2.06.94-2.06 2.06-.94-2.06-.94-.94-2.06-.94 2.06-2.06.94zm-11 1L8.5 8.5l.94-2.06 2.06-.94-2.06-.94L8.5 2.5l-.94 2.06-2.06.94zm10 10l.94 2.06.94-2.06 2.06-.94-2.06-.94-.94-2.06-.94 2.06-2.06.94z\"/><path d=\"M17.41 7.96l-1.37-1.37c-.4-.4-.92-.59-1.43-.59-.52 0-1.04.2-1.43.59L10.3 9.45l-7.72 7.72c-.78.78-.78 2.05 0 2.83L4 21.41c.39.39.9.59 1.41.59.51 0 1.02-.2 1.41-.59l7.78-7.78 2.81-2.81c.8-.78.8-2.07 0-2.86zM5.41 20L4 18.59l7.72-7.72 1.47 1.35L5.41 20z\"/>\n",
              "  </svg>\n",
              "      </button>\n",
              "      \n",
              "  <style>\n",
              "    .colab-df-container {\n",
              "      display:flex;\n",
              "      flex-wrap:wrap;\n",
              "      gap: 12px;\n",
              "    }\n",
              "\n",
              "    .colab-df-convert {\n",
              "      background-color: #E8F0FE;\n",
              "      border: none;\n",
              "      border-radius: 50%;\n",
              "      cursor: pointer;\n",
              "      display: none;\n",
              "      fill: #1967D2;\n",
              "      height: 32px;\n",
              "      padding: 0 0 0 0;\n",
              "      width: 32px;\n",
              "    }\n",
              "\n",
              "    .colab-df-convert:hover {\n",
              "      background-color: #E2EBFA;\n",
              "      box-shadow: 0px 1px 2px rgba(60, 64, 67, 0.3), 0px 1px 3px 1px rgba(60, 64, 67, 0.15);\n",
              "      fill: #174EA6;\n",
              "    }\n",
              "\n",
              "    [theme=dark] .colab-df-convert {\n",
              "      background-color: #3B4455;\n",
              "      fill: #D2E3FC;\n",
              "    }\n",
              "\n",
              "    [theme=dark] .colab-df-convert:hover {\n",
              "      background-color: #434B5C;\n",
              "      box-shadow: 0px 1px 3px 1px rgba(0, 0, 0, 0.15);\n",
              "      filter: drop-shadow(0px 1px 2px rgba(0, 0, 0, 0.3));\n",
              "      fill: #FFFFFF;\n",
              "    }\n",
              "  </style>\n",
              "\n",
              "      <script>\n",
              "        const buttonEl =\n",
              "          document.querySelector('#df-2191ec3e-66e6-4e43-9714-0a882912e4cb button.colab-df-convert');\n",
              "        buttonEl.style.display =\n",
              "          google.colab.kernel.accessAllowed ? 'block' : 'none';\n",
              "\n",
              "        async function convertToInteractive(key) {\n",
              "          const element = document.querySelector('#df-2191ec3e-66e6-4e43-9714-0a882912e4cb');\n",
              "          const dataTable =\n",
              "            await google.colab.kernel.invokeFunction('convertToInteractive',\n",
              "                                                     [key], {});\n",
              "          if (!dataTable) return;\n",
              "\n",
              "          const docLinkHtml = 'Like what you see? Visit the ' +\n",
              "            '<a target=\"_blank\" href=https://colab.research.google.com/notebooks/data_table.ipynb>data table notebook</a>'\n",
              "            + ' to learn more about interactive tables.';\n",
              "          element.innerHTML = '';\n",
              "          dataTable['output_type'] = 'display_data';\n",
              "          await google.colab.output.renderOutput(dataTable, element);\n",
              "          const docLink = document.createElement('div');\n",
              "          docLink.innerHTML = docLinkHtml;\n",
              "          element.appendChild(docLink);\n",
              "        }\n",
              "      </script>\n",
              "    </div>\n",
              "  </div>\n",
              "  "
            ]
          },
          "metadata": {},
          "execution_count": 33
        }
      ]
    },
    {
      "cell_type": "code",
      "source": [
        "temp2 = temp.loc[(temp.TX_COR=='Branca') | (temp.TX_COR=='Cinza')]"
      ],
      "metadata": {
        "id": "iT1wnlYAOlI4"
      },
      "execution_count": 34,
      "outputs": []
    },
    {
      "cell_type": "markdown",
      "source": [
        "# Provas de cor Branca e Cinza estão presentes apenas em 2 areas.\n",
        "- Branca : CH  /  LC\n",
        "- Cinza  : CN /  MT "
      ],
      "metadata": {
        "id": "AVrU5wH131Xn"
      }
    },
    {
      "cell_type": "code",
      "source": [
        "temp2"
      ],
      "metadata": {
        "colab": {
          "base_uri": "https://localhost:8080/",
          "height": 175
        },
        "id": "Ki2zeEef2-KR",
        "outputId": "c0a06782-d701-46bc-9048-200d3580d88c"
      },
      "execution_count": 35,
      "outputs": [
        {
          "output_type": "execute_result",
          "data": {
            "text/plain": [
              "   SG_AREA  TX_COR  count_area_cor_prova\n",
              "2       CH  Branca                    90\n",
              "8       CN   Cinza                    90\n",
              "14      LC  Branca                   100\n",
              "20      MT   Cinza                    90"
            ],
            "text/html": [
              "\n",
              "  <div id=\"df-46626a66-fc65-4dd1-acde-01acdaf556b0\">\n",
              "    <div class=\"colab-df-container\">\n",
              "      <div>\n",
              "<style scoped>\n",
              "    .dataframe tbody tr th:only-of-type {\n",
              "        vertical-align: middle;\n",
              "    }\n",
              "\n",
              "    .dataframe tbody tr th {\n",
              "        vertical-align: top;\n",
              "    }\n",
              "\n",
              "    .dataframe thead th {\n",
              "        text-align: right;\n",
              "    }\n",
              "</style>\n",
              "<table border=\"1\" class=\"dataframe\">\n",
              "  <thead>\n",
              "    <tr style=\"text-align: right;\">\n",
              "      <th></th>\n",
              "      <th>SG_AREA</th>\n",
              "      <th>TX_COR</th>\n",
              "      <th>count_area_cor_prova</th>\n",
              "    </tr>\n",
              "  </thead>\n",
              "  <tbody>\n",
              "    <tr>\n",
              "      <th>2</th>\n",
              "      <td>CH</td>\n",
              "      <td>Branca</td>\n",
              "      <td>90</td>\n",
              "    </tr>\n",
              "    <tr>\n",
              "      <th>8</th>\n",
              "      <td>CN</td>\n",
              "      <td>Cinza</td>\n",
              "      <td>90</td>\n",
              "    </tr>\n",
              "    <tr>\n",
              "      <th>14</th>\n",
              "      <td>LC</td>\n",
              "      <td>Branca</td>\n",
              "      <td>100</td>\n",
              "    </tr>\n",
              "    <tr>\n",
              "      <th>20</th>\n",
              "      <td>MT</td>\n",
              "      <td>Cinza</td>\n",
              "      <td>90</td>\n",
              "    </tr>\n",
              "  </tbody>\n",
              "</table>\n",
              "</div>\n",
              "      <button class=\"colab-df-convert\" onclick=\"convertToInteractive('df-46626a66-fc65-4dd1-acde-01acdaf556b0')\"\n",
              "              title=\"Convert this dataframe to an interactive table.\"\n",
              "              style=\"display:none;\">\n",
              "        \n",
              "  <svg xmlns=\"http://www.w3.org/2000/svg\" height=\"24px\"viewBox=\"0 0 24 24\"\n",
              "       width=\"24px\">\n",
              "    <path d=\"M0 0h24v24H0V0z\" fill=\"none\"/>\n",
              "    <path d=\"M18.56 5.44l.94 2.06.94-2.06 2.06-.94-2.06-.94-.94-2.06-.94 2.06-2.06.94zm-11 1L8.5 8.5l.94-2.06 2.06-.94-2.06-.94L8.5 2.5l-.94 2.06-2.06.94zm10 10l.94 2.06.94-2.06 2.06-.94-2.06-.94-.94-2.06-.94 2.06-2.06.94z\"/><path d=\"M17.41 7.96l-1.37-1.37c-.4-.4-.92-.59-1.43-.59-.52 0-1.04.2-1.43.59L10.3 9.45l-7.72 7.72c-.78.78-.78 2.05 0 2.83L4 21.41c.39.39.9.59 1.41.59.51 0 1.02-.2 1.41-.59l7.78-7.78 2.81-2.81c.8-.78.8-2.07 0-2.86zM5.41 20L4 18.59l7.72-7.72 1.47 1.35L5.41 20z\"/>\n",
              "  </svg>\n",
              "      </button>\n",
              "      \n",
              "  <style>\n",
              "    .colab-df-container {\n",
              "      display:flex;\n",
              "      flex-wrap:wrap;\n",
              "      gap: 12px;\n",
              "    }\n",
              "\n",
              "    .colab-df-convert {\n",
              "      background-color: #E8F0FE;\n",
              "      border: none;\n",
              "      border-radius: 50%;\n",
              "      cursor: pointer;\n",
              "      display: none;\n",
              "      fill: #1967D2;\n",
              "      height: 32px;\n",
              "      padding: 0 0 0 0;\n",
              "      width: 32px;\n",
              "    }\n",
              "\n",
              "    .colab-df-convert:hover {\n",
              "      background-color: #E2EBFA;\n",
              "      box-shadow: 0px 1px 2px rgba(60, 64, 67, 0.3), 0px 1px 3px 1px rgba(60, 64, 67, 0.15);\n",
              "      fill: #174EA6;\n",
              "    }\n",
              "\n",
              "    [theme=dark] .colab-df-convert {\n",
              "      background-color: #3B4455;\n",
              "      fill: #D2E3FC;\n",
              "    }\n",
              "\n",
              "    [theme=dark] .colab-df-convert:hover {\n",
              "      background-color: #434B5C;\n",
              "      box-shadow: 0px 1px 3px 1px rgba(0, 0, 0, 0.15);\n",
              "      filter: drop-shadow(0px 1px 2px rgba(0, 0, 0, 0.3));\n",
              "      fill: #FFFFFF;\n",
              "    }\n",
              "  </style>\n",
              "\n",
              "      <script>\n",
              "        const buttonEl =\n",
              "          document.querySelector('#df-46626a66-fc65-4dd1-acde-01acdaf556b0 button.colab-df-convert');\n",
              "        buttonEl.style.display =\n",
              "          google.colab.kernel.accessAllowed ? 'block' : 'none';\n",
              "\n",
              "        async function convertToInteractive(key) {\n",
              "          const element = document.querySelector('#df-46626a66-fc65-4dd1-acde-01acdaf556b0');\n",
              "          const dataTable =\n",
              "            await google.colab.kernel.invokeFunction('convertToInteractive',\n",
              "                                                     [key], {});\n",
              "          if (!dataTable) return;\n",
              "\n",
              "          const docLinkHtml = 'Like what you see? Visit the ' +\n",
              "            '<a target=\"_blank\" href=https://colab.research.google.com/notebooks/data_table.ipynb>data table notebook</a>'\n",
              "            + ' to learn more about interactive tables.';\n",
              "          element.innerHTML = '';\n",
              "          dataTable['output_type'] = 'display_data';\n",
              "          await google.colab.output.renderOutput(dataTable, element);\n",
              "          const docLink = document.createElement('div');\n",
              "          docLink.innerHTML = docLinkHtml;\n",
              "          element.appendChild(docLink);\n",
              "        }\n",
              "      </script>\n",
              "    </div>\n",
              "  </div>\n",
              "  "
            ]
          },
          "metadata": {},
          "execution_count": 35
        }
      ]
    }
  ]
}